{
 "cells": [
  {
   "cell_type": "code",
   "execution_count": 1,
   "metadata": {
    "colab": {
     "base_uri": "https://localhost:8080/"
    },
    "id": "XyngXa0_SGkL",
    "outputId": "57b96220-90fb-4504-8d9e-30f016f231b8"
   },
   "outputs": [
    {
     "name": "stderr",
     "output_type": "stream",
     "text": [
      "\n",
      "[notice] A new release of pip is available: 23.1.2 -> 24.3.1\n",
      "[notice] To update, run: python.exe -m pip install --upgrade pip\n"
     ]
    }
   ],
   "source": [
    "!pip install -q langchain langchain-community langchain-groq pypdf sentence_transformers"
   ]
  },
  {
   "cell_type": "code",
   "execution_count": 2,
   "metadata": {
    "colab": {
     "base_uri": "https://localhost:8080/"
    },
    "id": "dyybu3BxTd3A",
    "outputId": "653f93fa-8ac9-4d89-b7f8-8b1a8c494489"
   },
   "outputs": [
    {
     "name": "stderr",
     "output_type": "stream",
     "text": [
      "\n",
      "[notice] A new release of pip is available: 23.1.2 -> 24.3.1\n",
      "[notice] To update, run: python.exe -m pip install --upgrade pip\n"
     ]
    }
   ],
   "source": [
    "!pip install -qU langchain-community faiss-cpu"
   ]
  },
  {
   "cell_type": "code",
   "execution_count": 3,
   "metadata": {
    "colab": {
     "base_uri": "https://localhost:8080/"
    },
    "id": "OJ3D23hlX_kk",
    "outputId": "66c68014-b254-4b6f-820f-37f1401499e2"
   },
   "outputs": [
    {
     "name": "stdout",
     "output_type": "stream",
     "text": [
      "Requirement already satisfied: jq in e:\\misce\\ml\\llm_hackathon\\venv\\lib\\site-packages (1.8.0)\n"
     ]
    },
    {
     "name": "stderr",
     "output_type": "stream",
     "text": [
      "\n",
      "[notice] A new release of pip is available: 23.1.2 -> 24.3.1\n",
      "[notice] To update, run: python.exe -m pip install --upgrade pip\n"
     ]
    }
   ],
   "source": [
    "!pip install jq"
   ]
  },
  {
   "cell_type": "code",
   "execution_count": 4,
   "metadata": {
    "id": "xv4HzpIySGh1"
   },
   "outputs": [],
   "source": [
    "import os\n",
    "import json\n",
    "import glob\n",
    "from typing import List\n",
    "\n",
    "import torch\n",
    "import numpy as np\n",
    "from langchain_community.document_loaders import JSONLoader\n",
    "from langchain_community.vectorstores import FAISS\n",
    "from langchain_community.embeddings import HuggingFaceEmbeddings\n",
    "from langchain.text_splitter import RecursiveCharacterTextSplitter\n",
    "from langchain.retrievers.multi_query import MultiQueryRetriever\n",
    "from langchain_groq import ChatGroq\n",
    "from langchain.prompts import PromptTemplate\n",
    "from langchain.chains import RetrievalQA\n",
    "from langchain.docstore.document import Document"
   ]
  },
  {
   "cell_type": "code",
   "execution_count": 5,
   "metadata": {
    "id": "_0isqtD4SZwg"
   },
   "outputs": [],
   "source": [
    "def load_json_files(folder_path):\n",
    "    \"\"\"\n",
    "    Load all JSON files from a specified folder\n",
    "\n",
    "    Args:\n",
    "        folder_path (str): Path to the folder containing JSON files\n",
    "\n",
    "    Returns:\n",
    "        List of loaded documents\n",
    "    \"\"\"\n",
    "    # Use glob to find all JSON files in the folder\n",
    "    json_files = glob.glob(os.path.join(folder_path, '*.json'))\n",
    "\n",
    "    all_documents = []\n",
    "\n",
    "    for file_path in json_files:\n",
    "        try:\n",
    "            # Load JSON file using JSONLoader for more flexible parsing\n",
    "            loader = JSONLoader(\n",
    "                file_path=file_path,\n",
    "                jq_schema='.',  # Adjust based on your JSON structure\n",
    "                text_content=False  # Set to True if you want entire JSON content\n",
    "            )\n",
    "\n",
    "            # Load documents from the file\n",
    "            documents = loader.load()\n",
    "\n",
    "            # Add source metadata to each document\n",
    "            for doc in documents:\n",
    "                doc.metadata['source'] = file_path\n",
    "\n",
    "            all_documents.extend(documents)\n",
    "            print(f\"Loaded documents from {file_path}\")\n",
    "\n",
    "        except Exception as e:\n",
    "            print(f\"Error loading {file_path}: {e}\")\n",
    "\n",
    "    return all_documents"
   ]
  },
  {
   "cell_type": "code",
   "execution_count": 6,
   "metadata": {
    "id": "vBG4EoXQSnw3"
   },
   "outputs": [],
   "source": [
    "def prepare_documents(documents):\n",
    "    \"\"\"Prepare documents by splitting them into chunks\"\"\"\n",
    "    # Split documents into chunks\n",
    "    text_splitter = RecursiveCharacterTextSplitter(\n",
    "        chunk_size=1000,\n",
    "        chunk_overlap=200\n",
    "    )\n",
    "\n",
    "    # Split documents while preserving metadata\n",
    "    split_docs = text_splitter.split_documents(documents)\n",
    "\n",
    "    return split_docs"
   ]
  },
  {
   "cell_type": "code",
   "execution_count": 7,
   "metadata": {
    "id": "7JnQ8wgJSpYy"
   },
   "outputs": [],
   "source": [
    "def create_vector_store(documents):\n",
    "    \"\"\"Create vector store for similarity search\"\"\"\n",
    "    # Use a sentence transformer embedding model\n",
    "    embeddings = HuggingFaceEmbeddings(\n",
    "        model_name=\"all-MiniLM-L6-v2\",\n",
    "        model_kwargs={'device': 'cuda' if torch.cuda.is_available() else 'cpu'}\n",
    "    )\n",
    "\n",
    "    # Create FAISS vector store\n",
    "    vectorstore = FAISS.from_documents(documents, embeddings)\n",
    "    return vectorstore"
   ]
  },
  {
   "cell_type": "code",
   "execution_count": 8,
   "metadata": {
    "id": "elz6W4w-SqjV"
   },
   "outputs": [],
   "source": [
    "def setup_multi_query_retriever(vectorstore):\n",
    "    \"\"\"Setup multi-query retriever with custom LLM\"\"\"\n",
    "    # Initialize GROQ LLM (replace with your API key)\n",
    "    llm = ChatGroq(\n",
    "        temperature=0,\n",
    "        model_name=\"mixtral-8x7b-32768\",\n",
    "        groq_api_key=\"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\"\n",
    "    )\n",
    "\n",
    "    # Create multi-query retriever\n",
    "    retriever = MultiQueryRetriever.from_llm(\n",
    "        retriever=vectorstore.as_retriever(search_kwargs={'k': 5}),\n",
    "        llm=llm\n",
    "    )\n",
    "\n",
    "    return retriever"
   ]
  },
  {
   "cell_type": "code",
   "execution_count": null,
   "metadata": {
    "id": "IpRGKBTmSwx3"
   },
   "outputs": [],
   "source": [
    "def create_rag_chain(retriever):\n",
    "    \"\"\"Create RAG chain for question answering\"\"\"\n",
    "    # Initialize GROQ LLM for generation\n",
    "    llm = ChatGroq(\n",
    "        temperature=0.2,\n",
    "        model_name=\"mixtral-8x7b-32768\",\n",
    "        groq_api_key=\"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\"\n",
    "    )\n",
    "\n",
    "    # Custom prompt template\n",
    "    prompt_template = \"\"\"\n",
    "    Use the following context from multiple documents to give a summary of the item mentioned in the query. \n",
    "    The item may be directly mentioned or may be put forward as a sentence in the query. \n",
    "    Identify the apt item in the query and then generate the summary of it.\n",
    "    Your task is to generate a summary only and not to handle any other task.\n",
    "    If the item in the query is not in the context, admit that it is not there in context.\n",
    "\n",
    "    Context: {context}\n",
    "\n",
    "    Query: {question}\n",
    "\n",
    "    Helpful Answer:\"\"\"\n",
    "\n",
    "    PROMPT = PromptTemplate(\n",
    "        template=prompt_template,\n",
    "        input_variables=[\"context\", \"question\"]\n",
    "    )\n",
    "\n",
    "    # Create QA chain\n",
    "    qa_chain = RetrievalQA.from_chain_type(\n",
    "        llm=llm,\n",
    "        chain_type=\"stuff\",\n",
    "        retriever=retriever,\n",
    "        return_source_documents=True,\n",
    "        chain_type_kwargs={\"prompt\": PROMPT}\n",
    "    )\n",
    "\n",
    "    return qa_chain"
   ]
  },
  {
   "cell_type": "code",
   "execution_count": 47,
   "metadata": {
    "colab": {
     "base_uri": "https://localhost:8080/"
    },
    "id": "mci9XJuFS140",
    "outputId": "f78e520a-64a4-4a94-d821-2f0e9f51077d"
   },
   "outputs": [
    {
     "name": "stdout",
     "output_type": "stream",
     "text": [
      "Loaded documents from E:\\miscE\\ml\\LLM_Hackathon\\pharmaceutical_database\\cleaned_combined_dataset.json\n"
     ]
    }
   ],
   "source": [
    "json_folder = 'E:\\miscE\\ml\\LLM_Hackathon\\pharmaceutical_database'\n",
    "documents = load_json_files(json_folder)"
   ]
  },
  {
   "cell_type": "code",
   "execution_count": 48,
   "metadata": {
    "id": "T98hMmBaXaut"
   },
   "outputs": [],
   "source": [
    "split_docs = prepare_documents(documents)"
   ]
  },
  {
   "cell_type": "code",
   "execution_count": 49,
   "metadata": {
    "id": "-oAeNIS6S6uz"
   },
   "outputs": [],
   "source": [
    "# Ensure split_docs is not empty\n",
    "if split_docs:\n",
    "\tvectorstore = create_vector_store(split_docs)\n",
    "else:\n",
    "\tprint(\"split_docs is empty. Please check the document preparation step.\")"
   ]
  },
  {
   "cell_type": "code",
   "execution_count": 50,
   "metadata": {
    "id": "kM0OWoFNTBcd"
   },
   "outputs": [],
   "source": [
    "retriever = setup_multi_query_retriever(vectorstore)"
   ]
  },
  {
   "cell_type": "code",
   "execution_count": 51,
   "metadata": {
    "id": "5IgDtIAJTqTo"
   },
   "outputs": [],
   "source": [
    "qa_chain = create_rag_chain(retriever)"
   ]
  },
  {
   "cell_type": "code",
   "execution_count": null,
   "metadata": {
    "id": "nFlZK_mDTr2P"
   },
   "outputs": [],
   "source": [
    "queries = [\n",
    "        \"Acetazolamide Extended-Release Capsules\",\n",
    "        \"Can I take Ibuprofen if I have a history of stomach ulcers?\",\n",
    "        \"Summarize the details of Amoxicillin.\"\n",
    "  ]"
   ]
  },
  {
   "cell_type": "code",
   "execution_count": 53,
   "metadata": {
    "colab": {
     "base_uri": "https://localhost:8080/"
    },
    "id": "SjsWaK7kTtyY",
    "outputId": "12988e64-7298-4f26-a2ea-6a32315022ad"
   },
   "outputs": [
    {
     "name": "stdout",
     "output_type": "stream",
     "text": [
      "\n",
      "==================================================\n",
      "Question: What is the composition and primary use of Paracetamol?\n",
      "\n",
      "Answer: The item mentioned in the query, Paracetamol, is not present in the provided context. Therefore, I cannot give a summary of its composition and primary use. Paracetamol is also known as acetaminophen, and it is a common over-the-counter medication used for relieving pain and reducing fever. Its typical composition includes acetaminophen as the active ingredient, along with various inactive ingredients that help form the tablet, capsule, or other dosage forms.\n",
      "\n",
      "Source Documents:\n",
      "Source: E:\\miscE\\ml\\LLM_Hackathon\\pharmaceutical_database\\cleaned_combined_dataset.json\n",
      "analysis(42571-233, 42571-234) , label(42571-233, 42571-234) , manufacture(42571-233, 42571-234) , pack(42571-233, 42571-234)', 'dosage': None, 'contraindications': None, 'side_effects': None, 'warnings': None}, {'product_name': 'Aspirin and Extended-Release Dipyridamole Capsules', 'INGREDIENTS AND ...\n",
      "\n",
      "Source: E:\\miscE\\ml\\LLM_Hackathon\\pharmaceutical_database\\cleaned_combined_dataset.json\n",
      "100 mL in 1 BOTTLE; Type 0: Not a Combination Product 07/01/2021  Marketing Information Marketing CategoryApplication Number or Monograph CitationMarketing Start DateMarketing End Date ANDAANDA20518707/01/2021  Marketing Information Marketing Category Application Number or Monograph Citation Marketi...\n",
      "\n",
      "Source: E:\\miscE\\ml\\LLM_Hackathon\\pharmaceutical_database\\cleaned_combined_dataset.json\n",
      "Product 07/01/2021  Packaging # Item Code Package Description Marketing Start Date Marketing End Date 1 NDC:42571-163-47 100 mL in 1 BOTTLE; Type 0: Not a Combination Product 07/01/2021  Marketing Information Marketing CategoryApplication Number or Monograph CitationMarketing Start DateMarketing End...\n",
      "\n",
      "Source: E:\\miscE\\ml\\LLM_Hackathon\\pharmaceutical_database\\cleaned_combined_dataset.json\n",
      "[{'product_name': 'Acetazolamide Extended-Release Capsules', 'INGREDIENTS AND APPEARANCE': 'ACETAZOLAMIDE EXTENDED-RELEASE acetazolamide extended-release capsule Product Information Product TypeHUMAN PRESCRIPTION DRUGItem Code (Source)NDC:42571-243 Route of AdministrationORAL  Product Information Pr...\n",
      "\n",
      "Source: E:\\miscE\\ml\\LLM_Hackathon\\pharmaceutical_database\\cleaned_combined_dataset.json\n",
      "Product   Marketing Information Marketing CategoryApplication Number or Monograph CitationMarketing Start DateMarketing End Date ANDAANDA20594501/01/2020  Marketing Information Marketing Category Application Number or Monograph Citation Marketing Start Date Marketing End Date ANDA ANDA205945 01/01/2...\n",
      "\n",
      "Source: E:\\miscE\\ml\\LLM_Hackathon\\pharmaceutical_database\\cleaned_combined_dataset.json\n",
      "42571-145) , pack(42571-142, 42571-143, 42571-144, 42571-145)', 'dosage': None, 'contraindications': None, 'side_effects': None, 'warnings': None}, {'product_name': 'Chlordiazepoxide Hydrochloride and Clidinium Bromide Capsules, USP', 'INGREDIENTS AND APPEARANCE': 'CHLORDIAZEPOXIDE HCL AND CLIDINIUM...\n",
      "\n",
      "Source: E:\\miscE\\ml\\LLM_Hackathon\\pharmaceutical_database\\cleaned_combined_dataset.json\n",
      "of Administration ORAL Product Information Product Type HUMAN PRESCRIPTION DRUG Item Code (Source) NDC:42571-174 Route of Administration ORAL Active Ingredient/Active Moiety Ingredient NameBasis of StrengthStrength ATORVASTATIN CALCIUM TRIHYDRATE (UNII: 48A5M73Z4Q)  (ATORVASTATIN - UNII:A0JWA85V8F) ...\n",
      "\n",
      "Source: E:\\miscE\\ml\\LLM_Hackathon\\pharmaceutical_database\\cleaned_combined_dataset.json\n",
      "of Administration ORAL Product Information Product Type HUMAN PRESCRIPTION DRUG Item Code (Source) NDC:42571-173 Route of Administration ORAL Active Ingredient/Active Moiety Ingredient NameBasis of StrengthStrength ATORVASTATIN CALCIUM TRIHYDRATE (UNII: 48A5M73Z4Q)  (ATORVASTATIN - UNII:A0JWA85V8F) ...\n",
      "\n",
      "Source: E:\\miscE\\ml\\LLM_Hackathon\\pharmaceutical_database\\cleaned_combined_dataset.json\n",
      "Labeler - Micro Labs Limited (862174955) Establishment Name Address ID/FEI Business Operations Micro Labs Limited  915793658 analysis(42571-274) , label(42571-274) , manufacture(42571-274) , pack(42571-274)', 'dosage': None, 'contraindications': None, 'side_effects': None, 'warnings': None}, {'produ...\n",
      "\n",
      "Source: E:\\miscE\\ml\\LLM_Hackathon\\pharmaceutical_database\\cleaned_combined_dataset.json\n",
      "Product Type HUMAN PRESCRIPTION DRUG Item Code (Source) NDC:42571-175 Route of Administration ORAL Product Information Product Type HUMAN PRESCRIPTION DRUG Item Code (Source) NDC:42571-175 Route of Administration ORAL Active Ingredient/Active Moiety Ingredient NameBasis of StrengthStrength ATORVASTA...\n",
      "\n",
      "\n",
      "==================================================\n",
      "Question: Can I take Ibuprofen if I have a history of stomach ulcers?\n",
      "\n",
      "Answer: The context provided does not contain information about Ibuprofen or its effects on stomach ulcers. Therefore, it is not possible to provide a summary or answer regarding Ibuprofen's safety for individuals with a history of stomach ulcers based on this context. It is recommended to consult a healthcare professional for personalized medical advice.\n",
      "\n",
      "Source Documents:\n",
      "Source: E:\\miscE\\ml\\LLM_Hackathon\\pharmaceutical_database\\cleaned_combined_dataset.json\n",
      "Number or Monograph Citation Marketing Start Date Marketing End Date ANDA ANDA207435 01/01/2018  Marketing Information Marketing Category Application Number or Monograph Citation Marketing Start Date Marketing End Date ANDA ANDA207435 01/01/2018  AMLODIPINE AND OLMESARTAN MEDOXOMIL amlodipine and ol...\n",
      "\n",
      "Source: E:\\miscE\\ml\\LLM_Hackathon\\pharmaceutical_database\\cleaned_combined_dataset.json\n",
      "Marketing Information Marketing CategoryApplication Number or Monograph CitationMarketing Start DateMarketing End Date ANDAANDA20743501/01/2018  Marketing Information Marketing Category Application Number or Monograph Citation Marketing Start Date Marketing End Date ANDA ANDA207435 01/01/2018  Marke...\n",
      "\n",
      "Source: E:\\miscE\\ml\\LLM_Hackathon\\pharmaceutical_database\\cleaned_combined_dataset.json\n",
      "ANDAANDA20740112/01/2020  Marketing Information Marketing Category Application Number or Monograph Citation Marketing Start Date Marketing End Date ANDA ANDA207401 12/01/2020  Marketing Information Marketing Category Application Number or Monograph Citation Marketing Start Date Marketing End Date AN...\n",
      "\n",
      "Source: E:\\miscE\\ml\\LLM_Hackathon\\pharmaceutical_database\\cleaned_combined_dataset.json\n",
      "Marketing Information Marketing Category Application Number or Monograph Citation Marketing Start Date Marketing End Date ANDA ANDA205187 07/01/2021  Marketing Information Marketing Category Application Number or Monograph Citation Marketing Start Date Marketing End Date ANDA ANDA205187 07/01/2021  ...\n",
      "\n",
      "Source: E:\\miscE\\ml\\LLM_Hackathon\\pharmaceutical_database\\cleaned_combined_dataset.json\n",
      "or Monograph CitationMarketing Start DateMarketing End Date ANDAANDA20743501/01/2018  Marketing Information Marketing Category Application Number or Monograph Citation Marketing Start Date Marketing End Date ANDA ANDA207435 01/01/2018  Marketing Information Marketing Category Application Number or M...\n",
      "\n",
      "Source: E:\\miscE\\ml\\LLM_Hackathon\\pharmaceutical_database\\cleaned_combined_dataset.json\n",
      "None, 'side_effects': None, 'warnings': None}, {'product_name': 'Amoxicillin and Clavulanate Potassium Tablets, USP', 'INGREDIENTS AND APPEARANCE': 'AMOXICILLIN AND CLAVULANATE POTASSIUM amoxicillin and clavulanate potassium tablet, film coated Product Information Product TypeHUMAN PRESCRIPTION DRUG...\n",
      "\n",
      "Source: E:\\miscE\\ml\\LLM_Hackathon\\pharmaceutical_database\\cleaned_combined_dataset.json\n",
      "Start DateMarketing End Date ANDAANDA20743501/01/2018  Marketing Information Marketing Category Application Number or Monograph Citation Marketing Start Date Marketing End Date ANDA ANDA207435 01/01/2018  Marketing Information Marketing Category Application Number or Monograph Citation Marketing Sta...\n",
      "\n",
      "Source: E:\\miscE\\ml\\LLM_Hackathon\\pharmaceutical_database\\cleaned_combined_dataset.json\n",
      "03/01/2017  3 NDC:42571-160-11 10  in 1 CARTON 03/01/2017  3 NDC:42571-160-32 10  in 1 BLISTER PACK; Type 0: Not a Combination Product   Marketing Information Marketing CategoryApplication Number or Monograph CitationMarketing Start DateMarketing End Date ANDAANDA20570703/01/2017  Marketing Informat...\n",
      "\n",
      "Source: E:\\miscE\\ml\\LLM_Hackathon\\pharmaceutical_database\\cleaned_combined_dataset.json\n",
      "# Item Code Package Description Marketing Start Date Marketing End Date 1 NDC:42571-161-42 20  in 1 BOTTLE; Type 0: Not a Combination Product 03/01/2017  2 NDC:42571-161-01 100  in 1 BOTTLE; Type 0: Not a Combination Product 03/01/2017  3 NDC:42571-161-11 10  in 1 CARTON 03/01/2017  3 NDC:42571-161-...\n",
      "\n",
      "Source: E:\\miscE\\ml\\LLM_Hackathon\\pharmaceutical_database\\cleaned_combined_dataset.json\n",
      "03/01/2017  3 NDC:42571-161-11 10  in 1 CARTON 03/01/2017  3 NDC:42571-161-32 10  in 1 BLISTER PACK; Type 0: Not a Combination Product   Marketing Information Marketing CategoryApplication Number or Monograph CitationMarketing Start DateMarketing End Date ANDAANDA20570703/01/2017  Marketing Informat...\n",
      "\n",
      "\n",
      "==================================================\n",
      "Question: Summarize the details of Amoxicillin.\n",
      "\n",
      "Answer: The provided context includes information about two Amoxicillin products, specifically Amoxicillin capsules, USP. The first product has the item code NDC:42571-233 and contains Amoxicillin Anhydrous as its active ingredient with a strength of 250 mg. The second product has the item code NDC:42571-234 and contains Amoxicillin Anhydrous as its active ingredient with a strength of 500 mg. Both products are human prescription drugs and are intended for oral administration. The marketing start date for both products is not explicitly mentioned, but the marketing end date for both products is 11/01/2022. There is no other information provided about the dosage, contraindications, side effects, or warnings for these products.\n",
      "\n",
      "Source Documents:\n",
      "Source: E:\\miscE\\ml\\LLM_Hackathon\\pharmaceutical_database\\cleaned_combined_dataset.json\n",
      "Marketing Start Date Marketing End Date ANDA ANDA204755 03/01/2017  Marketing Information Marketing Category Application Number or Monograph Citation Marketing Start Date Marketing End Date ANDA ANDA204755 03/01/2017  Labeler - Micro Labs Limited (862174955) Establishment Name Address ID/FEI Busines...\n",
      "\n",
      "Source: E:\\miscE\\ml\\LLM_Hackathon\\pharmaceutical_database\\cleaned_combined_dataset.json\n",
      "Number or Monograph Citation Marketing Start Date Marketing End Date ANDA ANDA207471 11/01/2022  Marketing Information Marketing Category Application Number or Monograph Citation Marketing Start Date Marketing End Date ANDA ANDA207471 11/01/2022  AMOXICILLIN amoxicillin capsule Product Information P...\n",
      "\n",
      "Source: E:\\miscE\\ml\\LLM_Hackathon\\pharmaceutical_database\\cleaned_combined_dataset.json\n",
      "Marketing Information Marketing Category Application Number or Monograph Citation Marketing Start Date Marketing End Date ANDA ANDA207471 11/01/2022  Marketing Information Marketing Category Application Number or Monograph Citation Marketing Start Date Marketing End Date ANDA ANDA207471 11/01/2022  ...\n",
      "\n",
      "Source: E:\\miscE\\ml\\LLM_Hackathon\\pharmaceutical_database\\cleaned_combined_dataset.json\n",
      "42571-234)  AMOXICILLIN amoxicillin capsule Product Information Product TypeHUMAN PRESCRIPTION DRUGItem Code (Source)NDC:42571-233 Route of AdministrationORAL  Product Information Product Type HUMAN PRESCRIPTION DRUG Item Code (Source) NDC:42571-233 Route of Administration ORAL Product Information P...\n",
      "\n",
      "Source: E:\\miscE\\ml\\LLM_Hackathon\\pharmaceutical_database\\cleaned_combined_dataset.json\n",
      "CitationMarketing Start DateMarketing End Date ANDAANDA20747111/01/2022  Marketing Information Marketing Category Application Number or Monograph Citation Marketing Start Date Marketing End Date ANDA ANDA207471 11/01/2022  Marketing Information Marketing Category Application Number or Monograph Cita...\n",
      "\n",
      "Source: E:\\miscE\\ml\\LLM_Hackathon\\pharmaceutical_database\\cleaned_combined_dataset.json\n",
      "Marketing End Date ANDA ANDA207471 11/01/2022  Marketing Information Marketing Category Application Number or Monograph Citation Marketing Start Date Marketing End Date ANDA ANDA207471 11/01/2022  AMOXICILLIN amoxicillin capsule Product Information Product TypeHUMAN PRESCRIPTION DRUGItem Code (Sourc...\n",
      "\n",
      "Source: E:\\miscE\\ml\\LLM_Hackathon\\pharmaceutical_database\\cleaned_combined_dataset.json\n",
      ", manufacture(42571-233, 42571-234) , pack(42571-233, 42571-234)  AMOXICILLIN amoxicillin capsule Product Information Product TypeHUMAN PRESCRIPTION DRUGItem Code (Source)NDC:42571-233 Route of AdministrationORAL  Product Information Product Type HUMAN PRESCRIPTION DRUG Item Code (Source) NDC:42571-...\n",
      "\n"
     ]
    }
   ],
   "source": [
    "for query in queries:\n",
    "        print(\"\\n\" + \"=\"*50)\n",
    "        result = qa_chain({\"query\": query})\n",
    "\n",
    "        print(\"Question:\", query)\n",
    "        print(\"\\nAnswer:\", result['result'])\n",
    "\n",
    "        print(\"\\nSource Documents:\")\n",
    "        for doc in result['source_documents']:\n",
    "            print(f\"Source: {doc.metadata.get('source', 'Unknown')}\")\n",
    "            print(doc.page_content[:300] + \"...\\n\")"
   ]
  },
  {
   "cell_type": "code",
   "execution_count": null,
   "metadata": {
    "id": "cXenoRmdTxMt"
   },
   "outputs": [],
   "source": []
  }
 ],
 "metadata": {
  "accelerator": "GPU",
  "colab": {
   "gpuType": "T4",
   "provenance": []
  },
  "kernelspec": {
   "display_name": "venv",
   "language": "python",
   "name": "python3"
  },
  "language_info": {
   "codemirror_mode": {
    "name": "ipython",
    "version": 3
   },
   "file_extension": ".py",
   "mimetype": "text/x-python",
   "name": "python",
   "nbconvert_exporter": "python",
   "pygments_lexer": "ipython3",
   "version": "3.11.4"
  }
 },
 "nbformat": 4,
 "nbformat_minor": 0
}
