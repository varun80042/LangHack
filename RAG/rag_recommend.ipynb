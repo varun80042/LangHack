{
  "nbformat": 4,
  "nbformat_minor": 0,
  "metadata": {
    "colab": {
      "provenance": [],
      "gpuType": "T4"
    },
    "kernelspec": {
      "name": "python3",
      "display_name": "Python 3"
    },
    "language_info": {
      "name": "python"
    },
    "accelerator": "GPU"
  },
  "cells": [
    {
      "cell_type": "code",
      "source": [
        "!pip install -q langchain langchain-community langchain-groq pypdf sentence_transformers"
      ],
      "metadata": {
        "colab": {
          "base_uri": "https://localhost:8080/"
        },
        "id": "XyngXa0_SGkL",
        "outputId": "57b96220-90fb-4504-8d9e-30f016f231b8"
      },
      "execution_count": 2,
      "outputs": [
        {
          "output_type": "stream",
          "name": "stdout",
          "text": [
            "\u001b[?25l   \u001b[90m━━━━━━━━━━━━━━━━━━━━━━━━━━━━━━━━━━━━━━━━\u001b[0m \u001b[32m0.0/2.4 MB\u001b[0m \u001b[31m?\u001b[0m eta \u001b[36m-:--:--\u001b[0m\r\u001b[2K   \u001b[91m━━━━━━━━━━━━━━━━━━━━━━━━━━━━━━━━━━━━━━━\u001b[0m\u001b[91m╸\u001b[0m \u001b[32m2.4/2.4 MB\u001b[0m \u001b[31m110.8 MB/s\u001b[0m eta \u001b[36m0:00:01\u001b[0m\r\u001b[2K   \u001b[90m━━━━━━━━━━━━━━━━━━━━━━━━━━━━━━━━━━━━━━━━\u001b[0m \u001b[32m2.4/2.4 MB\u001b[0m \u001b[31m59.8 MB/s\u001b[0m eta \u001b[36m0:00:00\u001b[0m\n",
            "\u001b[?25h\u001b[?25l   \u001b[90m━━━━━━━━━━━━━━━━━━━━━━━━━━━━━━━━━━━━━━━━\u001b[0m \u001b[32m0.0/1.0 MB\u001b[0m \u001b[31m?\u001b[0m eta \u001b[36m-:--:--\u001b[0m\r\u001b[2K   \u001b[90m━━━━━━━━━━━━━━━━━━━━━━━━━━━━━━━━━━━━━━━━\u001b[0m \u001b[32m1.0/1.0 MB\u001b[0m \u001b[31m53.0 MB/s\u001b[0m eta \u001b[36m0:00:00\u001b[0m\n",
            "\u001b[2K   \u001b[90m━━━━━━━━━━━━━━━━━━━━━━━━━━━━━━━━━━━━━━━━\u001b[0m \u001b[32m298.0/298.0 kB\u001b[0m \u001b[31m22.6 MB/s\u001b[0m eta \u001b[36m0:00:00\u001b[0m\n",
            "\u001b[2K   \u001b[90m━━━━━━━━━━━━━━━━━━━━━━━━━━━━━━━━━━━━━━━━\u001b[0m \u001b[32m108.8/108.8 kB\u001b[0m \u001b[31m10.3 MB/s\u001b[0m eta \u001b[36m0:00:00\u001b[0m\n",
            "\u001b[2K   \u001b[90m━━━━━━━━━━━━━━━━━━━━━━━━━━━━━━━━━━━━━━━━\u001b[0m \u001b[32m409.5/409.5 kB\u001b[0m \u001b[31m32.2 MB/s\u001b[0m eta \u001b[36m0:00:00\u001b[0m\n",
            "\u001b[2K   \u001b[90m━━━━━━━━━━━━━━━━━━━━━━━━━━━━━━━━━━━━━━━━\u001b[0m \u001b[32m49.5/49.5 kB\u001b[0m \u001b[31m4.1 MB/s\u001b[0m eta \u001b[36m0:00:00\u001b[0m\n",
            "\u001b[?25h"
          ]
        }
      ]
    },
    {
      "cell_type": "code",
      "source": [
        "!pip install -qU langchain-community faiss-cpu"
      ],
      "metadata": {
        "colab": {
          "base_uri": "https://localhost:8080/"
        },
        "id": "dyybu3BxTd3A",
        "outputId": "653f93fa-8ac9-4d89-b7f8-8b1a8c494489"
      },
      "execution_count": 14,
      "outputs": [
        {
          "output_type": "stream",
          "name": "stdout",
          "text": [
            "\u001b[2K   \u001b[90m━━━━━━━━━━━━━━━━━━━━━━━━━━━━━━━━━━━━━━━━\u001b[0m \u001b[32m27.5/27.5 MB\u001b[0m \u001b[31m66.8 MB/s\u001b[0m eta \u001b[36m0:00:00\u001b[0m\n",
            "\u001b[?25h"
          ]
        }
      ]
    },
    {
      "cell_type": "code",
      "source": [
        "!pip install jq"
      ],
      "metadata": {
        "colab": {
          "base_uri": "https://localhost:8080/"
        },
        "id": "OJ3D23hlX_kk",
        "outputId": "66c68014-b254-4b6f-820f-37f1401499e2"
      },
      "execution_count": 56,
      "outputs": [
        {
          "output_type": "stream",
          "name": "stdout",
          "text": [
            "Requirement already satisfied: jq in /usr/local/lib/python3.10/dist-packages (1.8.0)\n"
          ]
        }
      ]
    },
    {
      "cell_type": "code",
      "source": [
        "import os\n",
        "import json\n",
        "import glob\n",
        "from typing import List\n",
        "\n",
        "import torch\n",
        "import numpy as np\n",
        "from langchain_community.document_loaders import JSONLoader\n",
        "from langchain_community.vectorstores import FAISS\n",
        "from langchain_community.embeddings import HuggingFaceEmbeddings\n",
        "from langchain.text_splitter import RecursiveCharacterTextSplitter\n",
        "from langchain.retrievers.multi_query import MultiQueryRetriever\n",
        "from langchain_groq import ChatGroq\n",
        "from langchain.prompts import PromptTemplate\n",
        "from langchain.chains import RetrievalQA\n",
        "from langchain.docstore.document import Document"
      ],
      "metadata": {
        "id": "xv4HzpIySGh1"
      },
      "execution_count": 39,
      "outputs": []
    },
    {
      "cell_type": "code",
      "source": [
        "def load_json_files(folder_path):\n",
        "    \"\"\"\n",
        "    Load all JSON files from a specified folder.\n",
        "\n",
        "    Args:\n",
        "        folder_path (str): Path to the folder containing JSON files.\n",
        "\n",
        "    Returns:\n",
        "        List of loaded documents.\n",
        "    \"\"\"\n",
        "    json_files = glob.glob(os.path.join(folder_path, '*.json'))\n",
        "    all_documents = []\n",
        "\n",
        "    for file_path in json_files:\n",
        "        try:\n",
        "            loader = JSONLoader(file_path=file_path, jq_schema='.', text_content=False)\n",
        "            documents = loader.load()\n",
        "            for doc in documents:\n",
        "                doc.metadata['source'] = file_path\n",
        "            all_documents.extend(documents)\n",
        "            print(f\"Loaded documents from {file_path}\")\n",
        "        except Exception as e:\n",
        "            print(f\"Error loading {file_path}: {e}\")\n",
        "\n",
        "    return all_documents"
      ],
      "metadata": {
        "id": "_0isqtD4SZwg"
      },
      "execution_count": 80,
      "outputs": []
    },
    {
      "cell_type": "code",
      "source": [
        "def prepare_documents(documents):\n",
        "    \"\"\"Prepare documents by splitting them into chunks.\"\"\"\n",
        "    text_splitter = RecursiveCharacterTextSplitter(chunk_size=1000, chunk_overlap=200)\n",
        "    split_docs = text_splitter.split_documents(documents)\n",
        "    return split_docs"
      ],
      "metadata": {
        "id": "vBG4EoXQSnw3"
      },
      "execution_count": 81,
      "outputs": []
    },
    {
      "cell_type": "code",
      "source": [
        "def create_vector_store(documents):\n",
        "    \"\"\"Create a vector store for similarity search.\"\"\"\n",
        "    embeddings = HuggingFaceEmbeddings(\n",
        "        model_name=\"all-MiniLM-L6-v2\",\n",
        "        model_kwargs={'device': 'cuda' if torch.cuda.is_available() else 'cpu'}\n",
        "    )\n",
        "    vectorstore = FAISS.from_documents(documents, embeddings)\n",
        "    return vectorstore"
      ],
      "metadata": {
        "id": "7JnQ8wgJSpYy"
      },
      "execution_count": 83,
      "outputs": []
    },
    {
      "cell_type": "code",
      "source": [
        "def setup_multi_query_retriever(vectorstore):\n",
        "    \"\"\"Set up a multi-query retriever with custom LLM.\"\"\"\n",
        "    llm = ChatGroq(\n",
        "        temperature=0,\n",
        "        model_name=\"llama-3.1-8b-instant\",\n",
        "        groq_api_key=\"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\"\n",
        "    )\n",
        "    retriever = MultiQueryRetriever.from_llm(\n",
        "        retriever=vectorstore.as_retriever(search_kwargs={'k': 5}),\n",
        "        llm=llm\n",
        "    )\n",
        "    return retriever"
      ],
      "metadata": {
        "id": "elz6W4w-SqjV"
      },
      "execution_count": 103,
      "outputs": []
    },
    {
      "cell_type": "code",
      "source": [
        "def create_rag_chain(retriever):\n",
        "    \"\"\"\n",
        "    Create RAG chain for QA with recommendations and warnings.\n",
        "\n",
        "    This chain answers questions only based on the provided context.\n",
        "    If the information is not in the context, it explicitly states that.\n",
        "    \"\"\"\n",
        "    llm = ChatGroq(\n",
        "        temperature=0.2,\n",
        "        model_name=\"llama-3.1-8b-instant\",\n",
        "        groq_api_key=\"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\"\n",
        "    )\n",
        "\n",
        "    prompt_template = \"\"\"You are a medical assistant with access to knowledge about medicines.\n",
        "    Use only the provided context to answer the question. If the answer cannot\n",
        "    be derived from the provided context, respond with: \"This information is not present in the provided documents.\"\n",
        "\n",
        "    Context: {context}\n",
        "\n",
        "    Question: {question}\n",
        "\n",
        "    Answer:\"\"\"\n",
        "\n",
        "    PROMPT = PromptTemplate(\n",
        "        template=prompt_template,\n",
        "        input_variables=[\"context\", \"question\"]\n",
        "    )\n",
        "\n",
        "    qa_chain = RetrievalQA.from_chain_type(\n",
        "        llm=llm,\n",
        "        chain_type=\"stuff\",\n",
        "        retriever=retriever,\n",
        "        return_source_documents=True,\n",
        "        chain_type_kwargs={\"prompt\": PROMPT}\n",
        "    )\n",
        "    return qa_chain\n"
      ],
      "metadata": {
        "id": "IpRGKBTmSwx3"
      },
      "execution_count": 112,
      "outputs": []
    },
    {
      "cell_type": "code",
      "source": [
        "json_folder = '/content/cleaned_data'\n",
        "documents = load_json_files(json_folder)\n",
        "split_docs = prepare_documents(documents)\n",
        "vectorstore = create_vector_store(split_docs)\n",
        "retriever = setup_multi_query_retriever(vectorstore)\n",
        "qa_chain = create_rag_chain(retriever)"
      ],
      "metadata": {
        "colab": {
          "base_uri": "https://localhost:8080/"
        },
        "id": "mci9XJuFS140",
        "outputId": "4ef5fef4-f02e-42ef-cfa9-e1e08793d721"
      },
      "execution_count": 113,
      "outputs": [
        {
          "output_type": "stream",
          "name": "stdout",
          "text": [
            "Loaded documents from /content/cleaned_data/cleaned_combined_dataset.json\n"
          ]
        }
      ]
    },
    {
      "cell_type": "code",
      "source": [
        "queries = [\n",
        "        \"Can I take Ibuprofen if I have a history of stomach ulcers?\"\n",
        "]"
      ],
      "metadata": {
        "id": "nFlZK_mDTr2P"
      },
      "execution_count": 118,
      "outputs": []
    },
    {
      "cell_type": "code",
      "source": [
        "for query in queries:\n",
        "        print(\"\\n\" + \"=\"*50)\n",
        "        result = qa_chain({\"query\": query})\n",
        "\n",
        "        print(\"Question:\", query)\n",
        "        print(\"\\nAnswer:\", result['result'])\n",
        "\n",
        "        print(\"\\nSource Documents:\")\n",
        "        for doc in result['source_documents']:\n",
        "            print(f\"Source: {doc.metadata.get('source', 'Unknown')}\")\n",
        "            print(doc.page_content[:300] + \"...\\n\")"
      ],
      "metadata": {
        "colab": {
          "base_uri": "https://localhost:8080/"
        },
        "id": "SjsWaK7kTtyY",
        "outputId": "7258f2c4-7a08-4164-e14d-10687bffc8c2"
      },
      "execution_count": 119,
      "outputs": [
        {
          "output_type": "stream",
          "name": "stdout",
          "text": [
            "\n",
            "==================================================\n",
            "Question: Can I take Ibuprofen if I have a history of stomach ulcers?\n",
            "\n",
            "Answer: This information is not present in the provided documents.\n",
            "\n",
            "Source Documents:\n",
            "Source: /content/cleaned_data/cleaned_combined_dataset.json\n",
            "CAPSULE Size 15mm Flavor  Imprint Code                                                         ML;5;2;5                          Contains  Product Characteristics Color green Score no score Shape CAPSULE Size 15mm Flavor  Imprint Code                                                         ML;5;2;5 ...\n",
            "\n",
            "Source: /content/cleaned_data/cleaned_combined_dataset.json\n",
            "06/01/2018  4 NDC:42571-144-29 6  in 1 CARTON 06/01/2018  4 NDC:42571-144-32 10  in 1 BLISTER PACK; Type 0: Not a Combination Product   5 NDC:42571-144-01 100  in 1 BOTTLE; Type 0: Not a Combination Product 06/01/2018  Marketing Information Marketing CategoryApplication Number or Monograph CitationM...\n",
            "\n",
            "Source: /content/cleaned_data/cleaned_combined_dataset.json\n",
            "green Score no score Shape CAPSULE Size 15mm Flavor  Imprint Code                                                         ML;5;2;5                          Contains  Product Characteristics Color green Score no score Shape CAPSULE Size 15mm Flavor  Imprint Code                                       ...\n",
            "\n",
            "Source: /content/cleaned_data/cleaned_combined_dataset.json\n",
            "03/01/2017  3 NDC:42571-160-11 10  in 1 CARTON 03/01/2017  3 NDC:42571-160-32 10  in 1 BLISTER PACK; Type 0: Not a Combination Product   Marketing Information Marketing CategoryApplication Number or Monograph CitationMarketing Start DateMarketing End Date ANDAANDA20570703/01/2017  Marketing Informat...\n",
            "\n",
            "Source: /content/cleaned_data/cleaned_combined_dataset.json\n",
            "Code  Contains  Product Characteristics Color white (white to off-white)  Score  Shape  Size  Flavor CARAMEL (golden caramel) , ORANGE, RASPBERRY Imprint Code  Contains  Packaging #Item CodePackage DescriptionMarketing Start DateMarketing End Date 1NDC:42571-163-47100 mL in 1 BOTTLE; Type 0: Not a C...\n",
            "\n",
            "Source: /content/cleaned_data/cleaned_combined_dataset.json\n",
            "None, 'side_effects': None, 'warnings': None}, {'product_name': 'Amoxicillin and Clavulanate Potassium Tablets, USP', 'INGREDIENTS AND APPEARANCE': 'AMOXICILLIN AND CLAVULANATE POTASSIUM amoxicillin and clavulanate potassium tablet, film coated Product Information Product TypeHUMAN PRESCRIPTION DRUG...\n",
            "\n",
            "Source: /content/cleaned_data/cleaned_combined_dataset.json\n",
            "ANDAANDA20740112/01/2020  Marketing Information Marketing Category Application Number or Monograph Citation Marketing Start Date Marketing End Date ANDA ANDA207401 12/01/2020  Marketing Information Marketing Category Application Number or Monograph Citation Marketing Start Date Marketing End Date AN...\n",
            "\n",
            "Source: /content/cleaned_data/cleaned_combined_dataset.json\n",
            "03/01/2017  3 NDC:42571-161-11 10  in 1 CARTON 03/01/2017  3 NDC:42571-161-32 10  in 1 BLISTER PACK; Type 0: Not a Combination Product   Marketing Information Marketing CategoryApplication Number or Monograph CitationMarketing Start DateMarketing End Date ANDAANDA20570703/01/2017  Marketing Informat...\n",
            "\n",
            "Source: /content/cleaned_data/cleaned_combined_dataset.json\n",
            "Marketing Information Marketing CategoryApplication Number or Monograph CitationMarketing Start DateMarketing End Date ANDAANDA20743501/01/2018  Marketing Information Marketing Category Application Number or Monograph Citation Marketing Start Date Marketing End Date ANDA ANDA207435 01/01/2018  Marke...\n",
            "\n",
            "Source: /content/cleaned_data/cleaned_combined_dataset.json\n",
            "Route of AdministrationORAL  Product Information Product Type HUMAN PRESCRIPTION DRUG Item Code (Source) NDC:42571-164 Route of Administration ORAL Product Information Product Type HUMAN PRESCRIPTION DRUG Item Code (Source) NDC:42571-164 Route of Administration ORAL Active Ingredient/Active Moiety I...\n",
            "\n",
            "Source: /content/cleaned_data/cleaned_combined_dataset.json\n",
            "42571-236, 42571-237, 42571-238) , label(42571-235, 42571-236, 42571-237, 42571-238) , manufacture(42571-235, 42571-236, 42571-237, 42571-238) , pack(42571-235, 42571-236, 42571-237, 42571-238)', 'dosage': None, 'contraindications': None, 'side_effects': None, 'warnings': None}, {'product_name': 'Am...\n",
            "\n",
            "Source: /content/cleaned_data/cleaned_combined_dataset.json\n",
            "Marketing Information Marketing Category Application Number or Monograph Citation Marketing Start Date Marketing End Date ANDA ANDA205187 07/01/2021  Marketing Information Marketing Category Application Number or Monograph Citation Marketing Start Date Marketing End Date ANDA ANDA205187 07/01/2021  ...\n",
            "\n",
            "Source: /content/cleaned_data/cleaned_combined_dataset.json\n",
            "mg  in 5 mL CLAVULANATE POTASSIUM (UNII: Q42OMW3AT8)  (CLAVULANIC ACID - UNII:23521W1S24) CLAVULANIC ACID28.5 mg  in 5 mL  Active Ingredient/Active Moiety Ingredient Name Basis of Strength Strength AMOXICILLIN (UNII: 804826J2HU)  (AMOXICILLIN ANHYDROUS - UNII:9EM05410Q9)  AMOXICILLIN ANHYDROUS 200 m...\n",
            "\n",
            "Source: /content/cleaned_data/cleaned_combined_dataset.json\n",
            "Number or Monograph Citation Marketing Start Date Marketing End Date ANDA ANDA207435 01/01/2018  Marketing Information Marketing Category Application Number or Monograph Citation Marketing Start Date Marketing End Date ANDA ANDA207435 01/01/2018  AMLODIPINE AND OLMESARTAN MEDOXOMIL amlodipine and ol...\n",
            "\n",
            "Source: /content/cleaned_data/cleaned_combined_dataset.json\n",
            "Start DateMarketing End Date ANDAANDA20743501/01/2018  Marketing Information Marketing Category Application Number or Monograph Citation Marketing Start Date Marketing End Date ANDA ANDA207435 01/01/2018  Marketing Information Marketing Category Application Number or Monograph Citation Marketing Sta...\n",
            "\n"
          ]
        }
      ]
    },
    {
      "cell_type": "code",
      "source": [],
      "metadata": {
        "id": "cXenoRmdTxMt"
      },
      "execution_count": null,
      "outputs": []
    }
  ]
}