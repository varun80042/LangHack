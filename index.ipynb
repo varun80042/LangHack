{
 "cells": [
  {
   "cell_type": "code",
   "execution_count": 5,
   "metadata": {},
   "outputs": [
    {
     "name": "stdout",
     "output_type": "stream",
     "text": [
      "Requirement already satisfied: langgraph in /Users/karthiknamboori/anaconda3/envs/dinoAI/lib/python3.12/site-packages (0.2.54)\n",
      "Requirement already satisfied: langchain in /Users/karthiknamboori/anaconda3/envs/dinoAI/lib/python3.12/site-packages (0.3.9)\n",
      "Requirement already satisfied: tavily-python in /Users/karthiknamboori/anaconda3/envs/dinoAI/lib/python3.12/site-packages (0.5.0)\n",
      "Collecting langchain-community\n",
      "  Downloading langchain_community-0.3.9-py3-none-any.whl.metadata (2.9 kB)\n",
      "Requirement already satisfied: langchain-core!=0.3.0,!=0.3.1,!=0.3.10,!=0.3.11,!=0.3.12,!=0.3.13,!=0.3.14,!=0.3.2,!=0.3.3,!=0.3.4,!=0.3.5,!=0.3.6,!=0.3.7,!=0.3.8,!=0.3.9,<0.4.0,>=0.2.43 in /Users/karthiknamboori/anaconda3/envs/dinoAI/lib/python3.12/site-packages (from langgraph) (0.3.21)\n",
      "Requirement already satisfied: langgraph-checkpoint<3.0.0,>=2.0.4 in /Users/karthiknamboori/anaconda3/envs/dinoAI/lib/python3.12/site-packages (from langgraph) (2.0.8)\n",
      "Requirement already satisfied: langgraph-sdk<0.2.0,>=0.1.42 in /Users/karthiknamboori/anaconda3/envs/dinoAI/lib/python3.12/site-packages (from langgraph) (0.1.42)\n",
      "Requirement already satisfied: PyYAML>=5.3 in /Users/karthiknamboori/anaconda3/envs/dinoAI/lib/python3.12/site-packages (from langchain) (6.0.2)\n",
      "Requirement already satisfied: SQLAlchemy<3,>=1.4 in /Users/karthiknamboori/anaconda3/envs/dinoAI/lib/python3.12/site-packages (from langchain) (2.0.36)\n",
      "Requirement already satisfied: aiohttp<4.0.0,>=3.8.3 in /Users/karthiknamboori/anaconda3/envs/dinoAI/lib/python3.12/site-packages (from langchain) (3.11.9)\n",
      "Requirement already satisfied: langchain-text-splitters<0.4.0,>=0.3.0 in /Users/karthiknamboori/anaconda3/envs/dinoAI/lib/python3.12/site-packages (from langchain) (0.3.2)\n",
      "Requirement already satisfied: langsmith<0.2.0,>=0.1.17 in /Users/karthiknamboori/anaconda3/envs/dinoAI/lib/python3.12/site-packages (from langchain) (0.1.147)\n",
      "Requirement already satisfied: numpy<3,>=1.26.2 in /Users/karthiknamboori/anaconda3/envs/dinoAI/lib/python3.12/site-packages (from langchain) (2.1.3)\n",
      "Requirement already satisfied: pydantic<3.0.0,>=2.7.4 in /Users/karthiknamboori/anaconda3/envs/dinoAI/lib/python3.12/site-packages (from langchain) (2.10.3)\n",
      "Requirement already satisfied: requests<3,>=2 in /Users/karthiknamboori/anaconda3/envs/dinoAI/lib/python3.12/site-packages (from langchain) (2.32.3)\n",
      "Requirement already satisfied: tenacity!=8.4.0,<10,>=8.1.0 in /Users/karthiknamboori/anaconda3/envs/dinoAI/lib/python3.12/site-packages (from langchain) (9.0.0)\n",
      "Requirement already satisfied: tiktoken>=0.5.1 in /Users/karthiknamboori/anaconda3/envs/dinoAI/lib/python3.12/site-packages (from tavily-python) (0.8.0)\n",
      "Requirement already satisfied: httpx in /Users/karthiknamboori/anaconda3/envs/dinoAI/lib/python3.12/site-packages (from tavily-python) (0.28.0)\n",
      "Collecting dataclasses-json<0.7,>=0.5.7 (from langchain-community)\n",
      "  Downloading dataclasses_json-0.6.7-py3-none-any.whl.metadata (25 kB)\n",
      "Collecting httpx-sse<0.5.0,>=0.4.0 (from langchain-community)\n",
      "  Downloading httpx_sse-0.4.0-py3-none-any.whl.metadata (9.0 kB)\n",
      "Collecting pydantic-settings<3.0.0,>=2.4.0 (from langchain-community)\n",
      "  Downloading pydantic_settings-2.6.1-py3-none-any.whl.metadata (3.5 kB)\n",
      "Requirement already satisfied: aiohappyeyeballs>=2.3.0 in /Users/karthiknamboori/anaconda3/envs/dinoAI/lib/python3.12/site-packages (from aiohttp<4.0.0,>=3.8.3->langchain) (2.4.4)\n",
      "Requirement already satisfied: aiosignal>=1.1.2 in /Users/karthiknamboori/anaconda3/envs/dinoAI/lib/python3.12/site-packages (from aiohttp<4.0.0,>=3.8.3->langchain) (1.3.1)\n",
      "Requirement already satisfied: attrs>=17.3.0 in /Users/karthiknamboori/anaconda3/envs/dinoAI/lib/python3.12/site-packages (from aiohttp<4.0.0,>=3.8.3->langchain) (24.2.0)\n",
      "Requirement already satisfied: frozenlist>=1.1.1 in /Users/karthiknamboori/anaconda3/envs/dinoAI/lib/python3.12/site-packages (from aiohttp<4.0.0,>=3.8.3->langchain) (1.5.0)\n",
      "Requirement already satisfied: multidict<7.0,>=4.5 in /Users/karthiknamboori/anaconda3/envs/dinoAI/lib/python3.12/site-packages (from aiohttp<4.0.0,>=3.8.3->langchain) (6.1.0)\n",
      "Requirement already satisfied: propcache>=0.2.0 in /Users/karthiknamboori/anaconda3/envs/dinoAI/lib/python3.12/site-packages (from aiohttp<4.0.0,>=3.8.3->langchain) (0.2.1)\n",
      "Requirement already satisfied: yarl<2.0,>=1.17.0 in /Users/karthiknamboori/anaconda3/envs/dinoAI/lib/python3.12/site-packages (from aiohttp<4.0.0,>=3.8.3->langchain) (1.18.3)\n",
      "Collecting marshmallow<4.0.0,>=3.18.0 (from dataclasses-json<0.7,>=0.5.7->langchain-community)\n",
      "  Downloading marshmallow-3.23.1-py3-none-any.whl.metadata (7.5 kB)\n",
      "Collecting typing-inspect<1,>=0.4.0 (from dataclasses-json<0.7,>=0.5.7->langchain-community)\n",
      "  Using cached typing_inspect-0.9.0-py3-none-any.whl.metadata (1.5 kB)\n",
      "Requirement already satisfied: jsonpatch<2.0,>=1.33 in /Users/karthiknamboori/anaconda3/envs/dinoAI/lib/python3.12/site-packages (from langchain-core!=0.3.0,!=0.3.1,!=0.3.10,!=0.3.11,!=0.3.12,!=0.3.13,!=0.3.14,!=0.3.2,!=0.3.3,!=0.3.4,!=0.3.5,!=0.3.6,!=0.3.7,!=0.3.8,!=0.3.9,<0.4.0,>=0.2.43->langgraph) (1.33)\n",
      "Requirement already satisfied: packaging<25,>=23.2 in /Users/karthiknamboori/anaconda3/envs/dinoAI/lib/python3.12/site-packages (from langchain-core!=0.3.0,!=0.3.1,!=0.3.10,!=0.3.11,!=0.3.12,!=0.3.13,!=0.3.14,!=0.3.2,!=0.3.3,!=0.3.4,!=0.3.5,!=0.3.6,!=0.3.7,!=0.3.8,!=0.3.9,<0.4.0,>=0.2.43->langgraph) (24.1)\n",
      "Requirement already satisfied: typing-extensions>=4.7 in /Users/karthiknamboori/anaconda3/envs/dinoAI/lib/python3.12/site-packages (from langchain-core!=0.3.0,!=0.3.1,!=0.3.10,!=0.3.11,!=0.3.12,!=0.3.13,!=0.3.14,!=0.3.2,!=0.3.3,!=0.3.4,!=0.3.5,!=0.3.6,!=0.3.7,!=0.3.8,!=0.3.9,<0.4.0,>=0.2.43->langgraph) (4.12.2)\n",
      "Requirement already satisfied: msgpack<2.0.0,>=1.1.0 in /Users/karthiknamboori/anaconda3/envs/dinoAI/lib/python3.12/site-packages (from langgraph-checkpoint<3.0.0,>=2.0.4->langgraph) (1.1.0)\n",
      "Requirement already satisfied: orjson>=3.10.1 in /Users/karthiknamboori/anaconda3/envs/dinoAI/lib/python3.12/site-packages (from langgraph-sdk<0.2.0,>=0.1.42->langgraph) (3.10.12)\n",
      "Requirement already satisfied: anyio in /Users/karthiknamboori/anaconda3/envs/dinoAI/lib/python3.12/site-packages (from httpx->tavily-python) (4.6.2.post1)\n",
      "Requirement already satisfied: certifi in /Users/karthiknamboori/anaconda3/envs/dinoAI/lib/python3.12/site-packages (from httpx->tavily-python) (2024.8.30)\n",
      "Requirement already satisfied: httpcore==1.* in /Users/karthiknamboori/anaconda3/envs/dinoAI/lib/python3.12/site-packages (from httpx->tavily-python) (1.0.7)\n",
      "Requirement already satisfied: idna in /Users/karthiknamboori/anaconda3/envs/dinoAI/lib/python3.12/site-packages (from httpx->tavily-python) (3.10)\n",
      "Requirement already satisfied: h11<0.15,>=0.13 in /Users/karthiknamboori/anaconda3/envs/dinoAI/lib/python3.12/site-packages (from httpcore==1.*->httpx->tavily-python) (0.14.0)\n",
      "Requirement already satisfied: requests-toolbelt<2.0.0,>=1.0.0 in /Users/karthiknamboori/anaconda3/envs/dinoAI/lib/python3.12/site-packages (from langsmith<0.2.0,>=0.1.17->langchain) (1.0.0)\n",
      "Requirement already satisfied: annotated-types>=0.6.0 in /Users/karthiknamboori/anaconda3/envs/dinoAI/lib/python3.12/site-packages (from pydantic<3.0.0,>=2.7.4->langchain) (0.7.0)\n",
      "Requirement already satisfied: pydantic-core==2.27.1 in /Users/karthiknamboori/anaconda3/envs/dinoAI/lib/python3.12/site-packages (from pydantic<3.0.0,>=2.7.4->langchain) (2.27.1)\n",
      "Collecting python-dotenv>=0.21.0 (from pydantic-settings<3.0.0,>=2.4.0->langchain-community)\n",
      "  Using cached python_dotenv-1.0.1-py3-none-any.whl.metadata (23 kB)\n",
      "Requirement already satisfied: charset-normalizer<4,>=2 in /Users/karthiknamboori/anaconda3/envs/dinoAI/lib/python3.12/site-packages (from requests<3,>=2->langchain) (3.3.2)\n",
      "Requirement already satisfied: urllib3<3,>=1.21.1 in /Users/karthiknamboori/anaconda3/envs/dinoAI/lib/python3.12/site-packages (from requests<3,>=2->langchain) (2.2.3)\n",
      "Requirement already satisfied: regex>=2022.1.18 in /Users/karthiknamboori/anaconda3/envs/dinoAI/lib/python3.12/site-packages (from tiktoken>=0.5.1->tavily-python) (2024.11.6)\n",
      "Requirement already satisfied: jsonpointer>=1.9 in /Users/karthiknamboori/anaconda3/envs/dinoAI/lib/python3.12/site-packages (from jsonpatch<2.0,>=1.33->langchain-core!=0.3.0,!=0.3.1,!=0.3.10,!=0.3.11,!=0.3.12,!=0.3.13,!=0.3.14,!=0.3.2,!=0.3.3,!=0.3.4,!=0.3.5,!=0.3.6,!=0.3.7,!=0.3.8,!=0.3.9,<0.4.0,>=0.2.43->langgraph) (3.0.0)\n",
      "Collecting mypy-extensions>=0.3.0 (from typing-inspect<1,>=0.4.0->dataclasses-json<0.7,>=0.5.7->langchain-community)\n",
      "  Downloading mypy_extensions-1.0.0-py3-none-any.whl.metadata (1.1 kB)\n",
      "Requirement already satisfied: sniffio>=1.1 in /Users/karthiknamboori/anaconda3/envs/dinoAI/lib/python3.12/site-packages (from anyio->httpx->tavily-python) (1.3.1)\n",
      "Downloading langchain_community-0.3.9-py3-none-any.whl (2.4 MB)\n",
      "\u001b[2K   \u001b[90m━━━━━━━━━━━━━━━━━━━━━━━━━━━━━━━━━━━━━━━━\u001b[0m \u001b[32m2.4/2.4 MB\u001b[0m \u001b[31m2.8 MB/s\u001b[0m eta \u001b[36m0:00:00\u001b[0ma \u001b[36m0:00:01\u001b[0m\n",
      "\u001b[?25hDownloading dataclasses_json-0.6.7-py3-none-any.whl (28 kB)\n",
      "Downloading httpx_sse-0.4.0-py3-none-any.whl (7.8 kB)\n",
      "Downloading pydantic_settings-2.6.1-py3-none-any.whl (28 kB)\n",
      "Downloading marshmallow-3.23.1-py3-none-any.whl (49 kB)\n",
      "\u001b[2K   \u001b[90m━━━━━━━━━━━━━━━━━━━━━━━━━━━━━━━━━━━━━━━━\u001b[0m \u001b[32m49.5/49.5 kB\u001b[0m \u001b[31m4.4 MB/s\u001b[0m eta \u001b[36m0:00:00\u001b[0m\n",
      "\u001b[?25hUsing cached python_dotenv-1.0.1-py3-none-any.whl (19 kB)\n",
      "Using cached typing_inspect-0.9.0-py3-none-any.whl (8.8 kB)\n",
      "Downloading mypy_extensions-1.0.0-py3-none-any.whl (4.7 kB)\n",
      "Installing collected packages: python-dotenv, mypy-extensions, marshmallow, httpx-sse, typing-inspect, pydantic-settings, dataclasses-json, langchain-community\n",
      "Successfully installed dataclasses-json-0.6.7 httpx-sse-0.4.0 langchain-community-0.3.9 marshmallow-3.23.1 mypy-extensions-1.0.0 pydantic-settings-2.6.1 python-dotenv-1.0.1 typing-inspect-0.9.0\n"
     ]
    }
   ],
   "source": [
    "!pip install langgraph langchain tavily-python langchain-community langchain-community"
   ]
  },
  {
   "cell_type": "code",
   "execution_count": 42,
   "metadata": {},
   "outputs": [],
   "source": [
    "import os\n",
    "import json\n",
    "from typing import Dict, List, Any, Callable\n",
    "\n",
    "from langchain_community.tools.tavily_search import TavilySearchResults\n",
    "from langchain_core.messages import AIMessage, HumanMessage\n",
    "from langchain_core.prompts import ChatPromptTemplate\n",
    "from langchain_core.pydantic_v1 import BaseModel, Field\n",
    "from langgraph.graph import StateGraph, END\n",
    "from tavily import TavilyClient\n"
   ]
  },
  {
   "cell_type": "code",
   "execution_count": 9,
   "metadata": {},
   "outputs": [
    {
     "name": "stdout",
     "output_type": "stream",
     "text": [
      "Collecting openai\n",
      "  Downloading openai-1.56.1-py3-none-any.whl.metadata (24 kB)\n",
      "Requirement already satisfied: anyio<5,>=3.5.0 in /Users/karthiknamboori/anaconda3/envs/dinoAI/lib/python3.12/site-packages (from openai) (4.6.2.post1)\n",
      "Collecting distro<2,>=1.7.0 (from openai)\n",
      "  Using cached distro-1.9.0-py3-none-any.whl.metadata (6.8 kB)\n",
      "Requirement already satisfied: httpx<1,>=0.23.0 in /Users/karthiknamboori/anaconda3/envs/dinoAI/lib/python3.12/site-packages (from openai) (0.28.0)\n",
      "Collecting jiter<1,>=0.4.0 (from openai)\n",
      "  Downloading jiter-0.8.0-cp312-cp312-macosx_11_0_arm64.whl.metadata (5.2 kB)\n",
      "Requirement already satisfied: pydantic<3,>=1.9.0 in /Users/karthiknamboori/anaconda3/envs/dinoAI/lib/python3.12/site-packages (from openai) (2.10.3)\n",
      "Requirement already satisfied: sniffio in /Users/karthiknamboori/anaconda3/envs/dinoAI/lib/python3.12/site-packages (from openai) (1.3.1)\n",
      "Requirement already satisfied: tqdm>4 in /Users/karthiknamboori/anaconda3/envs/dinoAI/lib/python3.12/site-packages (from openai) (4.66.5)\n",
      "Requirement already satisfied: typing-extensions<5,>=4.11 in /Users/karthiknamboori/anaconda3/envs/dinoAI/lib/python3.12/site-packages (from openai) (4.12.2)\n",
      "Requirement already satisfied: idna>=2.8 in /Users/karthiknamboori/anaconda3/envs/dinoAI/lib/python3.12/site-packages (from anyio<5,>=3.5.0->openai) (3.10)\n",
      "Requirement already satisfied: certifi in /Users/karthiknamboori/anaconda3/envs/dinoAI/lib/python3.12/site-packages (from httpx<1,>=0.23.0->openai) (2024.8.30)\n",
      "Requirement already satisfied: httpcore==1.* in /Users/karthiknamboori/anaconda3/envs/dinoAI/lib/python3.12/site-packages (from httpx<1,>=0.23.0->openai) (1.0.7)\n",
      "Requirement already satisfied: h11<0.15,>=0.13 in /Users/karthiknamboori/anaconda3/envs/dinoAI/lib/python3.12/site-packages (from httpcore==1.*->httpx<1,>=0.23.0->openai) (0.14.0)\n",
      "Requirement already satisfied: annotated-types>=0.6.0 in /Users/karthiknamboori/anaconda3/envs/dinoAI/lib/python3.12/site-packages (from pydantic<3,>=1.9.0->openai) (0.7.0)\n",
      "Requirement already satisfied: pydantic-core==2.27.1 in /Users/karthiknamboori/anaconda3/envs/dinoAI/lib/python3.12/site-packages (from pydantic<3,>=1.9.0->openai) (2.27.1)\n",
      "Downloading openai-1.56.1-py3-none-any.whl (389 kB)\n",
      "\u001b[2K   \u001b[90m━━━━━━━━━━━━━━━━━━━━━━━━━━━━━━━━━━━━━━━━\u001b[0m \u001b[32m389.8/389.8 kB\u001b[0m \u001b[31m2.0 MB/s\u001b[0m eta \u001b[36m0:00:00\u001b[0ma \u001b[36m0:00:01\u001b[0m\n",
      "\u001b[?25hUsing cached distro-1.9.0-py3-none-any.whl (20 kB)\n",
      "Downloading jiter-0.8.0-cp312-cp312-macosx_11_0_arm64.whl (309 kB)\n",
      "\u001b[2K   \u001b[90m━━━━━━━━━━━━━━━━━━━━━━━━━━━━━━━━━━━━━━━━\u001b[0m \u001b[32m309.6/309.6 kB\u001b[0m \u001b[31m2.7 MB/s\u001b[0m eta \u001b[36m0:00:00\u001b[0ma \u001b[36m0:00:01\u001b[0m\n",
      "\u001b[?25hInstalling collected packages: jiter, distro, openai\n",
      "Successfully installed distro-1.9.0 jiter-0.8.0 openai-1.56.1\n"
     ]
    }
   ],
   "source": [
    "!pip3 install openai"
   ]
  },
  {
   "cell_type": "code",
   "execution_count": 11,
   "metadata": {},
   "outputs": [],
   "source": [
    "from openai import OpenAI\n",
    "client1 = OpenAI(base_url=\"http://localhost:1234/v1\", api_key=\"lm-studio\")  # html to json\n"
   ]
  },
  {
   "cell_type": "code",
   "execution_count": 12,
   "metadata": {},
   "outputs": [],
   "source": [
    "model = r\"/Users/karthiknamboori/.cache/lm-studio/models/lmstudio-community/llama-3.2-3b-instruct\"\n"
   ]
  },
  {
   "cell_type": "code",
   "execution_count": 13,
   "metadata": {},
   "outputs": [],
   "source": [
    "def get_completion(prompt, client=client1, model=model):\n",
    "    \"\"\"\n",
    "    given the prompt, obtain the response from LLM hosted by LM Studio as a server\n",
    "    :param prompt: prompt to be sent to LLM server\n",
    "    :return: response from the LLM\n",
    "    \"\"\"\n",
    "    prompt = [\n",
    "        {\"role\": \"user\", \"content\": prompt}\n",
    "    ]\n",
    "    completion = client.chat.completions.create(\n",
    "        model=model,\n",
    "        messages=prompt,\n",
    "        temperature=0.0,\n",
    "        stream=True,\n",
    "    )\n",
    "\n",
    "    new_message = {\"role\": \"assistant\", \"content\": \"\"}\n",
    "\n",
    "    for chunk in completion:\n",
    "        if chunk.choices[0].delta.content:\n",
    "            # print(chunk.choices[0].delta.content, end=\"\", flush=True)\n",
    "            val = chunk.choices[0].delta.content\n",
    "            new_message[\"content\"] += val\n",
    "\n",
    "    # print(type()\n",
    "    val = new_message[\"content\"]  # .split(\"<end_of_turn>\")[0]\n",
    "\n",
    "    return val"
   ]
  },
  {
   "cell_type": "code",
   "execution_count": 52,
   "metadata": {},
   "outputs": [
    {
     "name": "stdout",
     "output_type": "stream",
     "text": [
      "As a political leader, I'd like to utilize the capabilities of this LLM to gain valuable insights that can help my party win the general elections in India. Here are 10 questions I'd like to ask:\n",
      "\n",
      "1. **Which constituencies have historically voted in favor of our party, and what are the key factors contributing to their success?**\n",
      "\n",
      "This question would help me identify areas of strength and understand the underlying reasons for our party's past victories in these constituencies.\n",
      "\n",
      "2. **Which assembly segments within each constituency are more favorable to our party, and what are the demographic characteristics of these areas?**\n",
      "\n",
      "This question would enable me to focus on specific segments within each constituency and tailor my campaign strategies accordingly.\n",
      "\n",
      "3. **What is the average vote share of our party in each constituency, and how does it compare to the national average?**\n",
      "\n",
      "This question would provide me with a comprehensive understanding of our party's performance across different constituencies and help me identify areas for improvement.\n",
      "\n",
      "4. **Which candidates from our party have historically performed well in terms of vote share, and what are their key strengths?**\n",
      "\n",
      "This question would help me identify top performers within our party and develop strategies to build on their strengths.\n",
      "\n",
      "5. **How do the voting patterns of different demographic groups (e.g., age, gender, caste, etc.) vary across constituencies?**\n",
      "\n",
      "This question would enable me to understand the nuances of voting patterns and develop targeted strategies to appeal to specific demographic groups.\n",
      "\n",
      "6. **What are the key factors that contribute to a shift in voting patterns from one constituency to another?**\n",
      "\n",
      "This question would help me identify the underlying drivers of changes in voting patterns and develop strategies to mitigate these shifts.\n",
      "\n",
      "7. **How do the voting patterns of different regions (e.g., urban, rural, etc.) vary across constituencies?**\n",
      "\n",
      "This question would enable me to understand the regional dynamics of voting patterns and develop targeted strategies to appeal to specific regions.\n",
      "\n",
      "8. **Which constituencies have historically been competitive, and what are the key factors contributing to their competitiveness?**\n",
      "\n",
      "This question would help me identify areas where our party can focus on building a strong presence and competing effectively with other parties.\n",
      "\n",
      "9. **How do the voting patterns of different socioeconomic groups (e.g., income, education, etc.) vary across constituencies?**\n",
      "\n",
      "This question would enable me to understand the nuances of voting patterns and develop targeted strategies to appeal to specific socioeconomic groups.\n",
      "\n",
      "10. **What are the key indicators that suggest a constituency is likely to vote for our party, and how can we use these indicators to inform our campaign strategies?**\n",
      "\n",
      "This question would help me identify reliable predictors of voting patterns and develop data-driven strategies to win over key constituencies.\n"
     ]
    }
   ],
   "source": [
    "prompt = \"\"\"\n",
    "    You are a political leader and your party is trying to win the general elections in India. \n",
    "    You are given an LLM that can provide you the analytics using the past historical data given to it.\n",
    "    In particular the LLM has been provided data on which party won each constituency out of 545 and which assembly segment within the main constituency is more favorable.\n",
    "    It also has details of votes polled by every candidate.\n",
    "    Tell me 10 questions that you want to ask the LLM.\n",
    "    \"\"\"\n",
    "results = get_completion(prompt)\n",
    "print(results)"
   ]
  },
  {
   "cell_type": "code",
   "execution_count": 15,
   "metadata": {},
   "outputs": [],
   "source": [
    "# State for tracking conversation and context\n",
    "class GraphState(BaseModel):\n",
    "    query: str = Field(default=\"\")\n",
    "    chat_history: List[Dict[str, str]] = Field(default_factory=list)\n",
    "    context: List[str] = Field(default_factory=list)\n",
    "    result: str = Field(default=\"\")\n",
    "    retry_count: int = Field(default=0)"
   ]
  },
  {
   "cell_type": "code",
   "execution_count": 16,
   "metadata": {},
   "outputs": [],
   "source": [
    "# Load pharmaceutical data (you'll need to replace this with your actual JSON data)\n",
    "def load_pharmaceutical_data(file_path):\n",
    "    try:\n",
    "        with open(file_path, 'r') as f:\n",
    "            return json.load(f)\n",
    "    except Exception as e:\n",
    "        print(f\"Error loading pharmaceutical data: {e}\")\n",
    "        return {}"
   ]
  },
  {
   "cell_type": "code",
   "execution_count": 17,
   "metadata": {},
   "outputs": [],
   "source": [
    "# RAG Node for searching pharmaceutical database\n",
    "def pharmaceutical_rag(state: GraphState) -> Dict:\n",
    "    print(\"Running Pharmaceutical RAG...\")\n",
    "    \n",
    "    # Load your pharmaceutical database (replace with actual path)\n",
    "    pharma_data = load_pharmaceutical_data('pharmaceutical_database.json')\n",
    "    \n",
    "    # Simple search through pharmaceutical data\n",
    "    matching_entries = []\n",
    "    for entry in pharma_data:\n",
    "        if state.query.lower() in json.dumps(entry).lower():\n",
    "            matching_entries.append(entry)\n",
    "    \n",
    "    if matching_entries:\n",
    "        context = [json.dumps(entry) for entry in matching_entries]\n",
    "        return {\n",
    "            \"context\": context,\n",
    "            \"result\": f\"Found {len(matching_entries)} matching entries.\"\n",
    "        }\n",
    "    \n",
    "    return {\"context\": [], \"result\": \"No matching entries found in database.\"}\n"
   ]
  },
  {
   "cell_type": "code",
   "execution_count": 33,
   "metadata": {},
   "outputs": [],
   "source": [
    "os.environ[\"TAVILY_API_KEY\"] = \"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 \""
   ]
  },
  {
   "cell_type": "code",
   "execution_count": 44,
   "metadata": {},
   "outputs": [],
   "source": [
    "# Web Search Node using Tavily\n",
    "def web_search(state: GraphState) -> Dict:\n",
    "    print(\"Performing Web Search...\")\n",
    "    try:\n",
    "        tavily_client = TavilyClient(api_key=\"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\")\n",
    "        response = tavily_client.search(state.query)\n",
    "        \n",
    "        context = [\n",
    "            f\"URL: {result['url']}\\nContent: {result['content']}\"\n",
    "            for result in response['results']\n",
    "        ]\n",
    "        \n",
    "        return {\n",
    "            \"context\": context,\n",
    "            \"result\": f\"Found {len(context)} web search results.\"\n",
    "        }\n",
    "    except Exception as e:\n",
    "        print(f\"Web search error: {e}\")\n",
    "        return {\"context\": [], \"result\": \"Web search failed.\"}\n",
    "\n"
   ]
  },
  {
   "cell_type": "code",
   "execution_count": 29,
   "metadata": {},
   "outputs": [],
   "source": [
    "# test web search\n",
    "def test_web_search(query):\n",
    "    print(\"Performing Web Search...\")\n",
    "    try:\n",
    "        tool = TavilySearchResults(max_results=3)\n",
    "        search_results = tool.invoke(\"What's a 'node' in LangGraph?\")\n",
    "        \n",
    "        context = [\n",
    "            f\"URL: {result['url']}\\nContent: {result['content']}\"\n",
    "            for result in search_results\n",
    "        ]\n",
    "        \n",
    "        return {\n",
    "            \"context\": context,\n",
    "            \"result\": f\"Found {len(context)} web search results.\"\n",
    "        }\n",
    "    except Exception as e:\n",
    "        print(f\"Web search error: {e}\")\n",
    "        return {\"context\": [], \"result\": \"Web search failed.\"}"
   ]
  },
  {
   "cell_type": "code",
   "execution_count": 41,
   "metadata": {},
   "outputs": [
    {
     "data": {
      "text/plain": [
       "{'query': 'Who is Varun MS, NeurIPS?',\n",
       " 'follow_up_questions': None,\n",
       " 'answer': None,\n",
       " 'images': [],\n",
       " 'results': [{'title': '\\u202aVarun Nair\\u202c - \\u202aGoogle Scholar\\u202c',\n",
       "   'url': 'https://scholar.google.com/citations?user=R3SqGgMAAAAJ',\n",
       "   'content': 'Varun Nair. Research at Harvey. Verified email at duke.edu. machine learning computer vision NLP. Articles Cited by Public access Co-authors. Title. Sort. ... NeurIPS, 2021. 3: 2021: CONSCENDI: A Contrastive and Scenario-Guided Distillation Approach to Guardrail Models for Virtual Assistants.',\n",
       "   'score': 0.9893885,\n",
       "   'raw_content': None},\n",
       "  {'title': 'Varun Jampani - Home',\n",
       "   'url': 'https://varunjampani.github.io/',\n",
       "   'content': \"Varun Jampani. Toggle navigation Varun Jampani. Home; Publications; ... May, 2024 : Area chairing for BMVC'24 and NeurIPS'24. March, 2024 : Papers on '3D awareness in foundation models', 'Multi-view diffusion', 'One-shot affordance learning', 'Neural BRDF decomposition',\",\n",
       "   'score': 0.9588471,\n",
       "   'raw_content': None},\n",
       "  {'title': 'Neural-PIL: Neural Pre-Integrated Lighting for Reflectance Decomposition',\n",
       "   'url': 'https://proceedings.neurips.cc/paper/2021/hash/58ae749f25eded36f486bc85feb3f0ab-Abstract.html',\n",
       "   'content': 'Part of Advances in Neural Information Processing Systems 34 (NeurIPS 2021) ... Mark Boss, Varun Jampani, Raphael Braun, Ce Liu, Jonathan Barron, Hendrik PA Lensch. Abstract. Decomposing a scene into its shape, reflectance and illumination is a fundamental problem in computer vision and graphics. Neural approaches such as NeRF have achieved',\n",
       "   'score': 0.9503189,\n",
       "   'raw_content': None},\n",
       "  {'title': 'NeurIPS 2024 - Microsoft Research',\n",
       "   'url': 'https://www.microsoft.com/en-us/research/event/neurips-2024/',\n",
       "   'content': 'Microsoft is a proud sponsor of the 38th Conference on Neural Information Processing Systems (opens in new tab) (NeurIPS). This interdisciplinary conference brings together researchers in machine learning, neuroscience, statistics, optimization, computer vision, natural language processing, life sciences, natural sciences, social sciences, and other adjacent fields. We are pleased to share',\n",
       "   'score': 0.7221353,\n",
       "   'raw_content': None},\n",
       "  {'title': 'Conference on Neural Information Processing Systems',\n",
       "   'url': 'https://en.wikipedia.org/wiki/Conference_on_Neural_Information_Processing_Systems',\n",
       "   'content': 'The Conference and Workshop on Neural Information Processing Systems (abbreviated as NeurIPS and formerly NIPS) is a machine learning and computational neuroscience conference held every December. Along with ICLR and ICML, it is one of the three primary conferences of high impact in machine learning and artificial intelligence research. [1]The conference is currently a double-track meeting',\n",
       "   'score': 0.7192851,\n",
       "   'raw_content': None}],\n",
       " 'response_time': 1.45}"
      ]
     },
     "execution_count": 41,
     "metadata": {},
     "output_type": "execute_result"
    }
   ],
   "source": [
    "# response = tavily_client.search(\"Who is Varun MS, NeurIPS?\")"
   ]
  },
  {
   "cell_type": "code",
   "execution_count": 30,
   "metadata": {},
   "outputs": [
    {
     "name": "stdout",
     "output_type": "stream",
     "text": [
      "Performing Web Search...\n",
      "Web search error: string indices must be integers, not 'str'\n"
     ]
    },
    {
     "data": {
      "text/plain": [
       "{'context': [], 'result': 'Web search failed.'}"
      ]
     },
     "execution_count": 30,
     "metadata": {},
     "output_type": "execute_result"
    }
   ],
   "source": [
    "test_web_search(\"Who is varun MS ?\")"
   ]
  },
  {
   "cell_type": "code",
   "execution_count": 67,
   "metadata": {},
   "outputs": [],
   "source": [
    "# LLM Node for generating final answer\n",
    "def generate_answer(state: GraphState) -> Dict:\n",
    "    print(\"Generating Answer...\")\n",
    "    \n",
    "    # Combine context and create prompt\n",
    "    context_str = \"\\n---\\n\".join(state.context)\n",
    "    \n",
    "    # Construct a comprehensive prompt\n",
    "    full_prompt = f\"\"\"You are a helpful pharmaceutical information assistant. \n",
    "    Use the following context to answer the user's query precisely and accurately.\n",
    "\n",
    "    Query: {state.query}\n",
    "\n",
    "    Context:\n",
    "    {context_str}\n",
    "\n",
    "    Guidelines:\n",
    "    - Provide a detailed and accurate response based on the context\n",
    "    - If information is insufficient, clearly state more research is needed\n",
    "    - Include relevant details about the pharmaceutical topic\n",
    "    - Be clear, concise, and informative\n",
    "\n",
    "    Your detailed response:\"\"\"\n",
    "    \n",
    "    try:\n",
    "        # Use the get_completion function\n",
    "        response = get_completion(full_prompt)\n",
    "        \n",
    "        return {\n",
    "            \"result\": response,\n",
    "            \"chat_history\": state.chat_history + [\n",
    "                {\"role\": \"user\", \"content\": state.query},\n",
    "                {\"role\": \"ai\", \"content\": response}\n",
    "            ]\n",
    "        }\n",
    "    except Exception as e:\n",
    "        print(f\"Answer generation error: {e}\")\n",
    "        return {\"result\": \"Could not generate an answer.\"}\n",
    "\n",
    "# Router Node to decide next action\n",
    "def route_query(state: GraphState) -> str:\n",
    "    print(\"Routing Query...\")\n",
    "    \n",
    "    # If retry count is high, end the process\n",
    "    if state.retry_count >= 2:\n",
    "        return END\n",
    "    \n",
    "    # Check if pharmaceutical RAG provided a good answer\n",
    "    if state.context and \"No matching entries\" not in state.result:\n",
    "        return \"generate_answer\"\n",
    "    \n",
    "    # Otherwise, try web search\n",
    "    return \"web_search\""
   ]
  },
  {
   "cell_type": "code",
   "execution_count": 68,
   "metadata": {},
   "outputs": [],
   "source": [
    "# Build the Graph\n",
    "def create_graph():\n",
    "    workflow = StateGraph(GraphState)\n",
    "    \n",
    "    # Add nodes\n",
    "    workflow.add_node(\"pharmaceutical_rag\", pharmaceutical_rag)\n",
    "    workflow.add_node(\"web_search\", web_search)\n",
    "    workflow.add_node(\"generate_answer\", generate_answer)\n",
    "    \n",
    "    # Set entry point\n",
    "    workflow.set_entry_point(\"pharmaceutical_rag\")\n",
    "    \n",
    "    # Add conditional edges\n",
    "    workflow.add_conditional_edges(\n",
    "        \"pharmaceutical_rag\",\n",
    "        route_query,\n",
    "        {\n",
    "            \"web_search\": \"web_search\",\n",
    "            \"generate_answer\": \"generate_answer\",\n",
    "            END: END\n",
    "        }\n",
    "    )\n",
    "    \n",
    "    workflow.add_conditional_edges(\n",
    "        \"web_search\",\n",
    "        route_query,\n",
    "        {\n",
    "            \"web_search\": \"web_search\",\n",
    "            \"generate_answer\": \"generate_answer\",\n",
    "            END: END\n",
    "        }\n",
    "    )\n",
    "    \n",
    "    # Compile the graph\n",
    "    return workflow.compile()"
   ]
  },
  {
   "cell_type": "code",
   "execution_count": 69,
   "metadata": {},
   "outputs": [],
   "source": [
    "# # Main execution\n",
    "# def main():\n",
    "#     # Create the graph\n",
    "#     \n",
    "    \n",
    "#     # # Example queries\n",
    "#     # queries = [\n",
    "#     #     \"What is the composition and primary use of Paracetamol?\",\n",
    "#     #     \"Can I take Ibuprofen if I have a history of stomach ulcers?\"\n",
    "#     # ]\n",
    "    \n",
    "#     # for query in queries:\n",
    "#     #     print(f\"\\n--- Processing Query: {query} ---\")\n",
    "#     #     result = app.invoke({\"query\": query})\n",
    "#     #     print(\"\\nFinal Result:\", result['result'])\n",
    "\n",
    "# if __name__ == \"__main__\":\n",
    "#     main()\n",
    "app = create_graph()\n",
    "queries = [\n",
    "\"What is the composition and primary use of Paracetamol?\",\n",
    "\"Can I take Ibuprofen if I have a history of stomach ulcers?\"\n",
    "]"
   ]
  },
  {
   "cell_type": "code",
   "execution_count": 72,
   "metadata": {},
   "outputs": [
    {
     "name": "stdout",
     "output_type": "stream",
     "text": [
      "Running Pharmaceutical RAG...\n",
      "Error loading pharmaceutical data: [Errno 2] No such file or directory: 'pharmaceutical_database.json'\n",
      "Routing Query...\n",
      "Performing Web Search...\n",
      "Routing Query...\n",
      "Generating Answer...\n",
      "{'query': 'What is the composition and primary use of Paracetamol?', 'chat_history': [{'role': 'user', 'content': 'What is the composition and primary use of Paracetamol?'}, {'role': 'ai', 'content': 'Based on the provided context, I can provide a detailed and accurate response regarding the composition and primary use of Paracetamol.\\n\\n**Composition:**\\nParacetamol, also known as acetaminophen, is a non-opioid analgesic and antipyretic agent. Its chemical name is N-acetyl-para-aminophenol (APAP). It is a white, crystalline powder with a melting point of 154-156°C.\\n\\n**Primary Use:**\\nThe primary use of Paracetamol is for the relief of mild to moderate pain, such as headache, muscle aches, minor arthritis pain, toothache, and pain caused by cold, flu, sprains, and dysmenorrhea. It is recommended as first-line therapy in pain conditions by the World Health Organization (WHO).\\n\\n**Mechanism of Action:**\\nThe exact mechanism of action of Paracetamol is unclear, but it is believed to inhibit the cyclooxygenase (COX) pathways, similar to nonsteroidal anti-inflammatory drugs (NSAIDs). This activity leads to the reduction of prostaglandins in the central nervous system (CNS), resulting in its analgesic and antipyretic effects.\\n\\n**Availability and Dosage Forms:**\\nParacetamol is available in various forms, including syrup, tablets, and capsules. It can be administered orally, rectally, or intravenously (IV).\\n\\n**Important Safety Information:**\\nExcessive use of Paracetamol can damage multiple organs, especially the liver and kidney. The toxicity is due to its metabolite, N-acetyl-p-benzoquinoneimine (NAPQI). Acetylcysteine (NAC) is used as an antidote to help neutralize NAPQI and prevent liver damage.\\n\\n**Interactions:**\\nParacetamol can interact with other medications, such as prokinetic agents like metoclopramide, which can increase the risk of asthma and developmental and reproductive disorders in offspring.\\n\\n**Pregnancy and Children:**\\nParacetamol use during pregnancy is associated with an increased risk of childhood asthma. However, the evidence for this association is limited, and more research is needed to fully understand the risks.\\n\\n**Conclusion:**\\nIn summary, Paracetamol is a widely used analgesic and antipyretic agent for the relief of mild to moderate pain. Its exact mechanism of action is unclear, but it is believed to inhibit the COX pathways. While it has several benefits, excessive use can lead to liver and kidney damage. It is essential to follow the recommended dosage and usage guidelines, especially in pregnant women and children.\\n\\nMore research is needed to fully understand the effects of Paracetamol on musculoskeletal conditions, such as osteoarthritis and backache. Additionally, the benefits of Paracetamol in treating chronic pain are uncertain.\\n\\nIf you have any further questions or concerns, please feel free to ask.'}], 'context': ['URL: https://pubchem.ncbi.nlm.nih.gov/compound/acetaminophen\\nContent: Acetaminophen (paracetamol), also commonly known as Tylenol, is the most commonly taken analgesic worldwide and is recommended as first-line therapy in pain conditions by the World Health Organization (WHO).It is also used for its antipyretic effects, helping to reduce fever. This drug was initially approved by the U.S. FDA in 1951 and is available in a variety of forms including syrup form', 'URL: http://pharmapedia.wikidot.com/paracetamol\\nContent: Excessive use of paracetamol can damage multiple organs, especially the liver and kidney. In both organs, toxicity from paracetamol is not from the drug itself but from one of its metabolites, N-acetyl-p-benzoquinoneimine (NAPQI). ... and potential primary and secondary hazards\". Environ Sci Technol 36 (17): 3827-33. doi:10.1021/es015873n', 'URL: https://www.ncbi.nlm.nih.gov/books/NBK482369/\\nContent: Clinicians can use acetaminophen for their patients as a single agent for mild-to-moderate pain or in conjunction with an opioid analgesic for severe pain.[1]\\nMechanism of Action\\nAcetaminophen\\xa0is one of the most widely used over-the-counter analgesic and antipyretic medications.[2]\\xa0Although the exact mechanism of action of the drug remains unclear, it is historically categorized along with nonsteroidal anti-inflammatory drugs (NSAIDs) due to its inhibition of the cyclooxygenase (COX) pathways.[3][4]\\xa0 This activity outlines the utilization, indications, administration, contraindications, and toxicity of acetaminophen, emphasizing the integral role of the interprofessional healthcare team in the care of patients using acetaminophen.\\nObjectives:\\nIndications\\nAcetaminophen, also known as\\xa0N-acetyl-para-aminophenol (APAP) or paracetamol in many countries, is a non-opioid analgesic and antipyretic agent utilized for treating pain and fever. Administration\\nAvailable Dosage Forms\\nAcetaminophen can be administered through oral, rectal, or IV routes.[10]\\nTompkins et al conducted a literature review on the effectiveness of IV acetaminophen in postoperative pain control.[11]\\xa0The investigators found a lack of evidence supporting the efficacy of IV acetaminophen when compared to oral or rectal acetaminophen, opioid analgesics, NSAIDs, or placebo across various surgical procedures, including abdominal, gynecological, genitourinary, orthopedic, neurosurgical, cardiac, and renal surgeries. There is also a theoretical proposition that acetaminophen inhibits a splice variant of COX-1, referred to as COX-3, although this hypothesis has not been verified in humans.[5]\\nRegardless, the reduction of the COX pathway activity by acetaminophen is thought to inhibit the synthesis of prostaglandins in the CNS, leading to its analgesic and antipyretic effects. Pregnant women are advised to exercise caution when using acetaminophen early in pregnancy due to emerging evidence suggesting that in-utero exposure to acetaminophen may elevate the risk of neurological, reproductive, and urogenital disorders in the fetus.[12] A study by Alemany et al investigated prenatal and postnatal acetaminophen exposure in relation to Autism Spectrum Conditions (ASC) and ADHD.[21]\\xa0Acetaminophen exposure was assessed in 73,881 mother-child pairs through questionnaires or interviews.', 'URL: https://www.pharmacompass.com/chemistry-chemical-name/paracetamol\\nContent: Know about technical details of Paracetamol like: chemical name, chemistry structure, formulation, uses, toxicity, action, side effects and more at Pharmacompass.com. Technical details about Paracetamol, learn more about the structure, uses, toxicity, action, side effects and more', 'URL: https://en.wikipedia.org/wiki/Paracetamol\\nContent: It appears that 0.2\\xa0°C decrease of the body temperature in children after a standard dose of paracetamol is of questionable value, particularly in emergency situations.[14] Based on this, some physicians advocate using higher doses that may decrease the temperature by as much as 0.7\\xa0°C.[17] Meta-analyses showed that paracetamol is less effective than ibuprofen in children (marginally less effective, according to another analysis[62]), including children younger than 2 years old,[63] with equivalent safety.[18] Exacerbation of asthma occurs with similar frequency for both medications.[64] Giving paracetamol and ibuprofen together at the same time to children under 5 is not recommended, however doses may be alternated if required.[60]\\nPain[edit]\\nParacetamol is used for the relief of mild to moderate pain such as headache, muscle aches, minor arthritis pain, toothache as well as pain caused by cold, flu, sprains, and dysmenorrhea.[65] It is recommended, in particular, for acute mild to moderate pain, since the evidence for the treatment of chronic pain is insufficient.[15]\\nThe benefits of paracetamol in musculoskeletal conditions, such as osteoarthritis and backache, are uncertain.[15]\\nIt appears to provide only small and not clinically important benefits in osteoarthritis.[15][27] While the antidote, acetylcysteine (also called N-acetylcysteine or NAC), acts as a precursor for glutathione, helping the body regenerate enough to prevent or at least decrease the possible damage to the liver; a liver transplant is often required if damage to the liver becomes severe.[42][110]\\nNAC was usually given following a treatment nomogram (one for people with risk factors, and one for those without), but the use of the nomogram is no longer recommended as evidence to support the use of risk factors was poor and inconsistent, and many of the risk factors are imprecise and difficult to determine with sufficient certainty in clinical practice.[111][112] Toxicity of paracetamol is due to its quinone metabolite NAPQI and NAC also helps in neutralizing it.[109] Kidney failure is also a possible side effect.[106]\\nInteractions[edit]\\nProkinetic agents such as metoclopramide accelerate gastric emptying, shorten time (tmax) to paracetamol peak blood plasma concentration (Cmax), and increase Cmax. However, indications exist of a possible increase of asthma and developmental and reproductive disorders in the offspring of women with prolonged use of paracetamol during pregnancy.[86]\\nParacetamol use by the mother during pregnancy is associated with an increased risk of childhood asthma,[91][92] but so are the maternal infections for which paracetamol may be used, and separating these influences is difficult.[86] Paracetamol, in a small scale meta-analysis was also associated with 20–30% increase in autism spectrum disorder, attention deficit hyperactivity disorder, hyperactivity symptoms, and conduct disorder, with the association being lower in a meta-analysis where a larger demographic was used, but it is unclear whether this is a causal relationship and there was potential bias in the findings.[86][93][94] \"[160]\\nDuring the COVID-19 pandemic it was considered by some in the scientific community that it was an effective analgesic medication to treat symptoms of COVID-19, but this was found to be unsubstantiated.[161][162][163][164]\\nSociety and culture[edit]\\nNaming[edit]\\nParacetamol is the Australian Approved Name[165] and British Approved Name[166] as well as the international nonproprietary name used by the WHO and in many other countries; acetaminophen is the United States Adopted Name[166] and Japanese Accepted Name and also the name generally used in Canada,[166] Venezuela, Colombia, and Iran.[166][167] Both paracetamol and acetaminophen are contractions of para-acetylaminophenol, a chemical name for the compound. Additionally, 4-nitrophenol can be selectively reduced by Tin(II) Chloride in absolute ethanol or ethyl acetate to produce a 91% yield of 4-aminophenol.[129][130][131]\\nAn alternative industrial synthesis developed at Celanese involves firstly direct acylation of phenol with acetic anhydride in the presence of hydrogen fluoride to a ketone, then the conversion of the ketone\\nwith hydroxylamine to a ketoxime, and finally the acid-catalyzed Beckmann rearrangement of the cetoxime to the para-acetylaminophenol product.[129][132]\\nReactions[edit]\\n4-Aminophenol may be obtained by the amide hydrolysis of paracetamol.'], 'result': 'Based on the provided context, I can provide a detailed and accurate response regarding the composition and primary use of Paracetamol.\\n\\n**Composition:**\\nParacetamol, also known as acetaminophen, is a non-opioid analgesic and antipyretic agent. Its chemical name is N-acetyl-para-aminophenol (APAP). It is a white, crystalline powder with a melting point of 154-156°C.\\n\\n**Primary Use:**\\nThe primary use of Paracetamol is for the relief of mild to moderate pain, such as headache, muscle aches, minor arthritis pain, toothache, and pain caused by cold, flu, sprains, and dysmenorrhea. It is recommended as first-line therapy in pain conditions by the World Health Organization (WHO).\\n\\n**Mechanism of Action:**\\nThe exact mechanism of action of Paracetamol is unclear, but it is believed to inhibit the cyclooxygenase (COX) pathways, similar to nonsteroidal anti-inflammatory drugs (NSAIDs). This activity leads to the reduction of prostaglandins in the central nervous system (CNS), resulting in its analgesic and antipyretic effects.\\n\\n**Availability and Dosage Forms:**\\nParacetamol is available in various forms, including syrup, tablets, and capsules. It can be administered orally, rectally, or intravenously (IV).\\n\\n**Important Safety Information:**\\nExcessive use of Paracetamol can damage multiple organs, especially the liver and kidney. The toxicity is due to its metabolite, N-acetyl-p-benzoquinoneimine (NAPQI). Acetylcysteine (NAC) is used as an antidote to help neutralize NAPQI and prevent liver damage.\\n\\n**Interactions:**\\nParacetamol can interact with other medications, such as prokinetic agents like metoclopramide, which can increase the risk of asthma and developmental and reproductive disorders in offspring.\\n\\n**Pregnancy and Children:**\\nParacetamol use during pregnancy is associated with an increased risk of childhood asthma. However, the evidence for this association is limited, and more research is needed to fully understand the risks.\\n\\n**Conclusion:**\\nIn summary, Paracetamol is a widely used analgesic and antipyretic agent for the relief of mild to moderate pain. Its exact mechanism of action is unclear, but it is believed to inhibit the COX pathways. While it has several benefits, excessive use can lead to liver and kidney damage. It is essential to follow the recommended dosage and usage guidelines, especially in pregnant women and children.\\n\\nMore research is needed to fully understand the effects of Paracetamol on musculoskeletal conditions, such as osteoarthritis and backache. Additionally, the benefits of Paracetamol in treating chronic pain are uncertain.\\n\\nIf you have any further questions or concerns, please feel free to ask.'}\n",
      "Running Pharmaceutical RAG...\n",
      "Error loading pharmaceutical data: [Errno 2] No such file or directory: 'pharmaceutical_database.json'\n",
      "Routing Query...\n",
      "Performing Web Search...\n",
      "Routing Query...\n",
      "Generating Answer...\n",
      "{'query': 'Can I take Ibuprofen if I have a history of stomach ulcers?', 'chat_history': [{'role': 'user', 'content': 'Can I take Ibuprofen if I have a history of stomach ulcers?'}, {'role': 'ai', 'content': 'Based on the provided context, I can provide a detailed and accurate response regarding taking Ibuprofen if you have a history of stomach ulcers.\\n\\nAccording to the medical news website, Medical News Today (https://www.medicalnewstoday.com/articles/ibuprofen-ulcers), there is a risk of ibuprofen causing stomach ulcers if taken in the long term and at high doses. This risk is particularly concerning for individuals who have a history of peptic ulcers.\\n\\nThe Healthline website (https://www.healthline.com/health/pain-management/what-painkillers-can-i-take-with-a-stomach-ulcer) emphasizes the importance of avoiding ibuprofen and other NSAIDs (nonsteroidal anti-inflammatory drugs) if you have a stomach ulcer. Instead, they recommend using non-NSAID pain relievers like acetaminophen.\\n\\nThe NHS website (https://www.nhs.uk/medicines/ibuprofen-for-adults/who-can-and-cannot-take-ibuprofen/) advises that most adults and young people aged 17 and over can take ibuprofen, but some may have health problems that make it unsafe. Specifically, individuals over 65 years old may be more likely to develop stomach ulcers while taking ibuprofen, and their doctor may prescribe a medicine to protect their stomach.\\n\\nThe WebMD website (https://www.webmd.com/digestive-disorders/features/tip-sheet-ulcers-pain-relievers) highlights the potential dangers of using NSAIDs, such as ibuprofen, for individuals with ulcers. They suggest that non-NSAID pain relievers like acetaminophen may be a safer choice.\\n\\nThe GoodRx website (https://www.goodrx.com/ibuprofen/ibuprofen-stomach-ulcers-advil-motrin) emphasizes the importance of being aware of the potential stomach side effects associated with ibuprofen, including bleeding or ulcers. They provide guidance on how to lower the risk of stomach side effects and what to do if symptoms occur.\\n\\nIn conclusion, based on the provided context, it is generally recommended that individuals with a history of stomach ulcers exercise caution when taking ibuprofen. The risk of developing stomach ulcers or exacerbating existing ulcers is higher with long-term use and high doses. It is essential to consult a doctor for personalized advice on pain management and to discuss alternative options, such as non-NSAID pain relievers like acetaminophen.\\n\\nMore research is needed to determine the specific circumstances under which ibuprofen can be safely taken by individuals with a history of stomach ulcers. However, based on the available information, it is clear that caution and careful consideration are necessary when evaluating the use of ibuprofen in this population.'}], 'context': ['URL: https://www.medicalnewstoday.com/articles/ibuprofen-ulcers\\nContent: There is a risk of ibuprofen causing stomach ulcers if taken in the long term and at high doses. People should speak with a doctor for the best course of action. ... has a history of peptic ulcers', 'URL: https://www.healthline.com/health/pain-management/what-painkillers-can-i-take-with-a-stomach-ulcer\\nContent: Learn why you should avoid ibuprofen and other NSAIDs if you have a stomach ulcer. Find out which painkillers are safe, how to use antacids, and what to do for ulcer pain relief.', \"URL: https://www.nhs.uk/medicines/ibuprofen-for-adults/who-can-and-cannot-take-ibuprofen/\\nContent: Most adults and young people aged 17 and over can take ibuprofen, but some may have health problems that make it unsafe. If you're over 65, ibuprofen can make you more likely to get stomach ulcers, so your doctor may prescribe a medicine to protect your stomach.\", 'URL: https://www.webmd.com/digestive-disorders/features/tip-sheet-ulcers-pain-relievers\\nContent: If you have an ulcer, use of NSAIDs, such as aspirin or ibuprofen could be dangerous and potentially life-threatening. A non-NSAID pain reliever, like acetaminophen , may be a safer choice.', 'URL: https://www.goodrx.com/ibuprofen/ibuprofen-stomach-ulcers-advil-motrin\\nContent: Ibuprofen is a common pain reliever that can cause stomach problems, like bleeding or ulcers, especially at higher doses or for long periods. Learn how to lower your risk of stomach side effects and what to do if you have symptoms of ulcers.'], 'result': 'Based on the provided context, I can provide a detailed and accurate response regarding taking Ibuprofen if you have a history of stomach ulcers.\\n\\nAccording to the medical news website, Medical News Today (https://www.medicalnewstoday.com/articles/ibuprofen-ulcers), there is a risk of ibuprofen causing stomach ulcers if taken in the long term and at high doses. This risk is particularly concerning for individuals who have a history of peptic ulcers.\\n\\nThe Healthline website (https://www.healthline.com/health/pain-management/what-painkillers-can-i-take-with-a-stomach-ulcer) emphasizes the importance of avoiding ibuprofen and other NSAIDs (nonsteroidal anti-inflammatory drugs) if you have a stomach ulcer. Instead, they recommend using non-NSAID pain relievers like acetaminophen.\\n\\nThe NHS website (https://www.nhs.uk/medicines/ibuprofen-for-adults/who-can-and-cannot-take-ibuprofen/) advises that most adults and young people aged 17 and over can take ibuprofen, but some may have health problems that make it unsafe. Specifically, individuals over 65 years old may be more likely to develop stomach ulcers while taking ibuprofen, and their doctor may prescribe a medicine to protect their stomach.\\n\\nThe WebMD website (https://www.webmd.com/digestive-disorders/features/tip-sheet-ulcers-pain-relievers) highlights the potential dangers of using NSAIDs, such as ibuprofen, for individuals with ulcers. They suggest that non-NSAID pain relievers like acetaminophen may be a safer choice.\\n\\nThe GoodRx website (https://www.goodrx.com/ibuprofen/ibuprofen-stomach-ulcers-advil-motrin) emphasizes the importance of being aware of the potential stomach side effects associated with ibuprofen, including bleeding or ulcers. They provide guidance on how to lower the risk of stomach side effects and what to do if symptoms occur.\\n\\nIn conclusion, based on the provided context, it is generally recommended that individuals with a history of stomach ulcers exercise caution when taking ibuprofen. The risk of developing stomach ulcers or exacerbating existing ulcers is higher with long-term use and high doses. It is essential to consult a doctor for personalized advice on pain management and to discuss alternative options, such as non-NSAID pain relievers like acetaminophen.\\n\\nMore research is needed to determine the specific circumstances under which ibuprofen can be safely taken by individuals with a history of stomach ulcers. However, based on the available information, it is clear that caution and careful consideration are necessary when evaluating the use of ibuprofen in this population.'}\n"
     ]
    }
   ],
   "source": [
    "for query in queries:\n",
    "    result = app.invoke({\"query\": query})\n",
    "    print(result)\n"
   ]
  }
 ],
 "metadata": {
  "kernelspec": {
   "display_name": "dinoAI",
   "language": "python",
   "name": "python3"
  },
  "language_info": {
   "codemirror_mode": {
    "name": "ipython",
    "version": 3
   },
   "file_extension": ".py",
   "mimetype": "text/x-python",
   "name": "python",
   "nbconvert_exporter": "python",
   "pygments_lexer": "ipython3",
   "version": "3.12.4"
  },
  "orig_nbformat": 4,
  "vscode": {
   "interpreter": {
    "hash": "85a42b24b08a1f9049f1b1d5c8e7f5057a015f1827621a3b7193a78eb036af8c"
   }
  }
 },
 "nbformat": 4,
 "nbformat_minor": 2
}
